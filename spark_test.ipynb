{
 "cells": [
  {
   "cell_type": "code",
   "execution_count": 1,
   "metadata": {},
   "outputs": [],
   "source": [
    "from pyspark.sql import SparkSession\n",
    "import pandas as pd"
   ]
  },
  {
   "cell_type": "code",
   "execution_count": 2,
   "metadata": {},
   "outputs": [
    {
     "name": "stderr",
     "output_type": "stream",
     "text": [
      "24/09/11 10:17:46 WARN Utils: Your hostname, Randolfs-MacBook-Air.local resolves to a loopback address: 127.0.2.2; using 10.143.60.239 instead (on interface en0)\n",
      "24/09/11 10:17:46 WARN Utils: Set SPARK_LOCAL_IP if you need to bind to another address\n",
      "Setting default log level to \"WARN\".\n",
      "To adjust logging level use sc.setLogLevel(newLevel). For SparkR, use setLogLevel(newLevel).\n",
      "24/09/11 10:17:47 WARN NativeCodeLoader: Unable to load native-hadoop library for your platform... using builtin-java classes where applicable\n"
     ]
    }
   ],
   "source": [
    "# Instantiate a spark session to process data\n",
    "spark = SparkSession.builder.appName(\"JSON to Data\") \\\n",
    "    .config(\"spark.executor.memory\", \"6g\") \\\n",
    "    .config(\"spark.driver.memory\", \"6g\") \\\n",
    "    .config(\"spark.memory.offHeap.enabled\", \"true\") \\\n",
    "    .config(\"spark.memory.offHeap.size\", \"4g\") \\\n",
    "    .config(\"spark.executor.extraJavaOptions\", \"-XX:+UseG1GC\") \\\n",
    "    .config(\"spark.driver.extraJavaOptions\", \"-XX:+UseG1GC\") \\\n",
    "    .getOrCreate()"
   ]
  },
  {
   "cell_type": "code",
   "execution_count": 3,
   "metadata": {},
   "outputs": [
    {
     "name": "stderr",
     "output_type": "stream",
     "text": [
      "24/09/11 10:17:51 WARN SparkStringUtils: Truncated the string representation of a plan since it was too large. This behavior can be adjusted by setting 'spark.sql.debug.maxToStringFields'.\n"
     ]
    },
    {
     "name": "stdout",
     "output_type": "stream",
     "text": [
      "+--------------------+--------------------+--------------------+--------------------+--------------+--------------------+-------+-------------+--------------+--------------------+-----------+------------+-----+-----+\n",
      "|             address|          attributes|         business_id|          categories|          city|               hours|is_open|     latitude|     longitude|                name|postal_code|review_count|stars|state|\n",
      "+--------------------+--------------------+--------------------+--------------------+--------------+--------------------+-------+-------------+--------------+--------------------+-----------+------------+-----+-----+\n",
      "|1616 Chapala St, ...|{NULL, NULL, NULL...|Pns2l4eNsfO8kk83d...|Doctors, Traditio...| Santa Barbara|                NULL|      0|   34.4266787|  -119.7111968|Abby Rappoport, L...|      93101|           7|  5.0|   CA|\n",
      "|87 Grasso Plaza S...|{NULL, NULL, NULL...|mpf3x-BjTdTEA3yCZ...|Shipping Centers,...|        Affton|{8:0-18:30, 0:0-0...|      1|    38.551126|    -90.335695|       The UPS Store|      63123|          15|  3.0|   MO|\n",
      "|5255 E Broadway Blvd|{NULL, NULL, NULL...|tUFrWirKiKi_TAnsV...|Department Stores...|        Tucson|{8:0-23:0, 8:0-22...|      0|    32.223236|   -110.880452|              Target|      85711|          22|  3.5|   AZ|\n",
      "|         935 Race St|{NULL, NULL, u'no...|MTSW4McQd7CbVtyjq...|Restaurants, Food...|  Philadelphia|{7:0-21:0, 7:0-20...|      1|   39.9555052|   -75.1555641|  St Honore Pastries|      19107|          80|  4.0|   PA|\n",
      "|       101 Walnut St|{NULL, NULL, NULL...|mWMc6_wTdE0EUBKIG...|Brewpubs, Breweri...|    Green Lane|{12:0-22:0, NULL,...|      1|   40.3381827|   -75.4716585|Perkiomen Valley ...|      18054|          13|  4.5|   PA|\n",
      "|       615 S Main St|{NULL, NULL, u'no...|CF33F8-E6oudUQ46H...|Burgers, Fast Foo...|  Ashland City|{9:0-0:0, 0:0-0:0...|      1|    36.269593|    -87.058943|      Sonic Drive-In|      37015|           6|  2.0|   TN|\n",
      "|8522 Eager Road, ...|{NULL, NULL, NULL...|n_0UpQx1hsNbnPUSl...|Sporting Goods, F...|     Brentwood|{10:0-18:0, 0:0-0...|      1|    38.627695|    -90.340465|     Famous Footwear|      63144|          13|  2.5|   MO|\n",
      "|  400 Pasadena Ave S|                NULL|qkRM_2X51Yqxk3btl...|Synagogues, Relig...|St. Petersburg|{9:0-17:0, 9:0-17...|      1|     27.76659|    -82.732983|      Temple Beth-El|      33707|           5|  3.5|   FL|\n",
      "|   8025 Mackenzie Rd|{NULL, NULL, u'fu...|k0hlBqXX-Bt0vf1op...|Pubs, Restaurants...|        Affton|                NULL|      0|   38.5651648|   -90.3210868|Tsevi's Pub And G...|      63123|          19|  3.0|   MO|\n",
      "| 2312 Dickerson Pike|{NULL, NULL, u'no...|bBDDEgkFA1Otx9Lfe...|Ice Cream & Froze...|     Nashville|{6:0-16:0, 0:0-0:...|      1|   36.2081024|   -86.7681696|      Sonic Drive-In|      37207|          10|  1.5|   TN|\n",
      "|21705 Village Lak...|{NULL, NULL, NULL...|UJsufbvfyfONHeWdv...|Department Stores...| Land O' Lakes|{9:30-21:30, 9:30...|      1|28.1904587953|-82.4573802199|           Marshalls|      34639|           6|  3.5|   FL|\n",
      "|                    |{NULL, NULL, 'non...|eEOYSgkmpB90uNA7l...|Vietnamese, Food,...|     Tampa Bay|{11:0-14:0, 11:0-...|      1|   27.9552692|   -82.4563199|Vietnamese Food T...|      33602|          10|  4.0|   FL|\n",
      "|        8901 US 31 S|{NULL, NULL, 'non...|il_Ro8jwPlHresjw9...|American (Traditi...|  Indianapolis|{6:0-22:0, 6:0-22...|      1|39.6371332838| -86.127217412|             Denny's|      46227|          28|  2.5|   IN|\n",
      "|   15 N Missouri Ave|{NULL, NULL, NULL...|jaxMSoInw8Poo3XeM...|General Dentistry...|    Clearwater|{NULL, 7:30-15:30...|      1|    27.966235|    -82.787412|        Adams Dental|      33755|          10|  5.0|   FL|\n",
      "|       2575 E Bay Dr|{NULL, NULL, u'no...|0bPLkL0QhhPO5kt1_...|Food, Delis, Ital...|         Largo|{10:0-20:0, 10:0-...|      0|   27.9161159|   -82.7604608|Zio's Italian Market|      33771|         100|  4.5|   FL|\n",
      "|         205 Race St|{NULL, NULL, 'ful...|MUTTqe8uqyMdBl186...|Sushi Bars, Resta...|  Philadelphia|{13:30-23:0, NULL...|      1|    39.953949|   -75.1432262|            Tuna Bar|      19106|         245|  4.0|   PA|\n",
      "|     625 N Stone Ave|{NULL, NULL, NULL...|rBmpy_Y1UbBx8ggHl...|Automotive, Auto ...|        Tucson|{8:0-17:0, 0:0-0:...|      1|   32.2298719|  -110.9723419|Arizona Truck Out...|      85705|          10|  4.5|   AZ|\n",
      "|        712 Adams St|{NULL, NULL, NULL...|M0XSSHqrASOnhgbWD...|Vape Shops, Tobac...|   New Orleans|{10:0-19:0, 10:0-...|      1|29.9414679565| -90.129952757|      Herb Import Co|      70118|           5|  4.0|   LA|\n",
      "|     1241 Airline Dr|                NULL|8wGISYjYkE2tSqn3c...|Automotive, Car R...|        Kenner|{8:0-17:0, 8:0-17...|      1|    29.981183|   -90.2540123|    Nifty Car Rental|      70062|          14|  3.5|   LA|\n",
      "|       1224 South St|{NULL, NULL, u'no...|ROeacJQwBeh05Rqg7...| Korean, Restaurants|  Philadelphia|{11:30-20:30, 11:...|      1|    39.943223|    -75.162568|                 BAP|      19147|         205|  4.5|   PA|\n",
      "+--------------------+--------------------+--------------------+--------------------+--------------+--------------------+-------+-------------+--------------+--------------------+-----------+------------+-----+-----+\n",
      "only showing top 20 rows\n",
      "\n"
     ]
    }
   ],
   "source": [
    "df = spark.read.json(\"../json_data/yelp_academic_dataset_business.json\")\n",
    "df.show()"
   ]
  },
  {
   "cell_type": "code",
   "execution_count": 4,
   "metadata": {},
   "outputs": [
    {
     "data": {
      "text/plain": [
       "Row(address='1616 Chapala St, Ste 2', attributes=Row(AcceptsInsurance=None, AgesAllowed=None, Alcohol=None, Ambience=None, BYOB=None, BYOBCorkage=None, BestNights=None, BikeParking=None, BusinessAcceptsBitcoin=None, BusinessAcceptsCreditCards=None, BusinessParking=None, ByAppointmentOnly='True', Caters=None, CoatCheck=None, Corkage=None, DietaryRestrictions=None, DogsAllowed=None, DriveThru=None, GoodForDancing=None, GoodForKids=None, GoodForMeal=None, HairSpecializesIn=None, HappyHour=None, HasTV=None, Music=None, NoiseLevel=None, Open24Hours=None, OutdoorSeating=None, RestaurantsAttire=None, RestaurantsCounterService=None, RestaurantsDelivery=None, RestaurantsGoodForGroups=None, RestaurantsPriceRange2=None, RestaurantsReservations=None, RestaurantsTableService=None, RestaurantsTakeOut=None, Smoking=None, WheelchairAccessible=None, WiFi=None), business_id='Pns2l4eNsfO8kk83dixA6A', categories='Doctors, Traditional Chinese Medicine, Naturopathic/Holistic, Acupuncture, Health & Medical, Nutritionists', city='Santa Barbara', hours=None, is_open=0, latitude=34.4266787, longitude=-119.7111968, name='Abby Rappoport, LAC, CMQ', postal_code='93101', review_count=7, stars=5.0, state='CA')"
      ]
     },
     "execution_count": 4,
     "metadata": {},
     "output_type": "execute_result"
    }
   ],
   "source": [
    "df.head()"
   ]
  },
  {
   "cell_type": "code",
   "execution_count": 5,
   "metadata": {},
   "outputs": [],
   "source": [
    "df_ca = df.filter(df['state'] == 'CA')"
   ]
  },
  {
   "cell_type": "code",
   "execution_count": 6,
   "metadata": {},
   "outputs": [
    {
     "name": "stdout",
     "output_type": "stream",
     "text": [
      "root\n",
      " |-- address: string (nullable = true)\n",
      " |-- attributes: struct (nullable = true)\n",
      " |    |-- AcceptsInsurance: string (nullable = true)\n",
      " |    |-- AgesAllowed: string (nullable = true)\n",
      " |    |-- Alcohol: string (nullable = true)\n",
      " |    |-- Ambience: string (nullable = true)\n",
      " |    |-- BYOB: string (nullable = true)\n",
      " |    |-- BYOBCorkage: string (nullable = true)\n",
      " |    |-- BestNights: string (nullable = true)\n",
      " |    |-- BikeParking: string (nullable = true)\n",
      " |    |-- BusinessAcceptsBitcoin: string (nullable = true)\n",
      " |    |-- BusinessAcceptsCreditCards: string (nullable = true)\n",
      " |    |-- BusinessParking: string (nullable = true)\n",
      " |    |-- ByAppointmentOnly: string (nullable = true)\n",
      " |    |-- Caters: string (nullable = true)\n",
      " |    |-- CoatCheck: string (nullable = true)\n",
      " |    |-- Corkage: string (nullable = true)\n",
      " |    |-- DietaryRestrictions: string (nullable = true)\n",
      " |    |-- DogsAllowed: string (nullable = true)\n",
      " |    |-- DriveThru: string (nullable = true)\n",
      " |    |-- GoodForDancing: string (nullable = true)\n",
      " |    |-- GoodForKids: string (nullable = true)\n",
      " |    |-- GoodForMeal: string (nullable = true)\n",
      " |    |-- HairSpecializesIn: string (nullable = true)\n",
      " |    |-- HappyHour: string (nullable = true)\n",
      " |    |-- HasTV: string (nullable = true)\n",
      " |    |-- Music: string (nullable = true)\n",
      " |    |-- NoiseLevel: string (nullable = true)\n",
      " |    |-- Open24Hours: string (nullable = true)\n",
      " |    |-- OutdoorSeating: string (nullable = true)\n",
      " |    |-- RestaurantsAttire: string (nullable = true)\n",
      " |    |-- RestaurantsCounterService: string (nullable = true)\n",
      " |    |-- RestaurantsDelivery: string (nullable = true)\n",
      " |    |-- RestaurantsGoodForGroups: string (nullable = true)\n",
      " |    |-- RestaurantsPriceRange2: string (nullable = true)\n",
      " |    |-- RestaurantsReservations: string (nullable = true)\n",
      " |    |-- RestaurantsTableService: string (nullable = true)\n",
      " |    |-- RestaurantsTakeOut: string (nullable = true)\n",
      " |    |-- Smoking: string (nullable = true)\n",
      " |    |-- WheelchairAccessible: string (nullable = true)\n",
      " |    |-- WiFi: string (nullable = true)\n",
      " |-- business_id: string (nullable = true)\n",
      " |-- categories: string (nullable = true)\n",
      " |-- city: string (nullable = true)\n",
      " |-- hours: struct (nullable = true)\n",
      " |    |-- Friday: string (nullable = true)\n",
      " |    |-- Monday: string (nullable = true)\n",
      " |    |-- Saturday: string (nullable = true)\n",
      " |    |-- Sunday: string (nullable = true)\n",
      " |    |-- Thursday: string (nullable = true)\n",
      " |    |-- Tuesday: string (nullable = true)\n",
      " |    |-- Wednesday: string (nullable = true)\n",
      " |-- is_open: long (nullable = true)\n",
      " |-- latitude: double (nullable = true)\n",
      " |-- longitude: double (nullable = true)\n",
      " |-- name: string (nullable = true)\n",
      " |-- postal_code: string (nullable = true)\n",
      " |-- review_count: long (nullable = true)\n",
      " |-- stars: double (nullable = true)\n",
      " |-- state: string (nullable = true)\n",
      "\n"
     ]
    }
   ],
   "source": [
    "df.printSchema()"
   ]
  },
  {
   "cell_type": "code",
   "execution_count": 7,
   "metadata": {},
   "outputs": [],
   "source": [
    "df_ca.createGlobalTempView(\"CA\")"
   ]
  },
  {
   "cell_type": "code",
   "execution_count": 8,
   "metadata": {},
   "outputs": [
    {
     "name": "stdout",
     "output_type": "stream",
     "text": [
      "+--------------------+--------------------+--------------------+--------------------+-------------+--------------------+-------+-------------+---------------+--------------------+-----------+------------+-----+-----+\n",
      "|             address|          attributes|         business_id|          categories|         city|               hours|is_open|     latitude|      longitude|                name|postal_code|review_count|stars|state|\n",
      "+--------------------+--------------------+--------------------+--------------------+-------------+--------------------+-------+-------------+---------------+--------------------+-----------+------------+-----+-----+\n",
      "|1616 Chapala St, ...|{NULL, NULL, NULL...|Pns2l4eNsfO8kk83d...|Doctors, Traditio...|Santa Barbara|                NULL|      0|   34.4266787|   -119.7111968|Abby Rappoport, L...|      93101|           7|  5.0|   CA|\n",
      "|    827-833 State St|{NULL, NULL, NULL...|noByYNtDLQAra9ccq...|Women's Clothing,...|Santa Barbara|{11:0-18:0, 11:0-...|      1|34.4202089255|-119.7004597389|                 H&M|      93101|          24|  3.0|   CA|\n",
      "|131 Anacapa St, S...|{NULL, NULL, u'no...|IDtLPgUrqorrpqSLd...|Food, Restaurants...|Santa Barbara|{8:0-14:0, 0:0-0:...|      1|   34.4144445|   -119.6906718|Helena Avenue Bakery|      93101|         389|  4.0|   CA|\n",
      "|      825 Cacique St|{NULL, NULL, NULL...|nUqrF-h9S7myCcvND...|Towing, Automotiv...|Santa Barbara|{8:0-17:0, 0:0-0:...|      1|   34.4196198|   -119.6770319|Iron Horse Auto Body|      93103|          32|  4.5|   CA|\n",
      "|                    |{NULL, NULL, NULL...|bYjnX_J1bHZob10Do...|Parenting Classes...|Santa Barbara|{10:0-18:0, 0:0-0...|      1|    34.420334|   -119.7107494|Tinkle Belle Diap...|      93101|          17|  5.0|   CA|\n",
      "|   230 Stearns Wharf|{NULL, NULL, 'bee...|SZU9c8V2GuREDN5Kg...|Live/Raw Food, Re...|Santa Barbara|{11:0-21:0, 0:0-0...|      1|   34.4087147|   -119.6850187|Santa Barbara She...|      93101|        2404|  4.0|   CA|\n",
      "|       1228 State St|{NULL, NULL, NULL...|QZU7TcrztBb3tXaPb...|Beauty & Spas, Ta...|Santa Barbara|{12:0-20:0, 12:0-...|      1|   34.4241297|   -119.7053211|             805 Ink|      93101|          68|  4.5|   CA|\n",
      "|         1 Garden St|{NULL, NULL, NULL...|25Uww0C0wvF9CZ_3B...|Motorcycle Rental...|Santa Barbara|{9:0-17:0, 9:0-17...|      1|34.4143420056|-119.6873324599|  Enjoy The Mountain|      93105|          48|  4.5|   CA|\n",
      "|263 Santa Monica Way|{NULL, NULL, NULL...|xF9r1XbMvEOsJeHlm...|Professional Serv...|Santa Barbara|{6:0-23:30, 6:0-2...|      1|   34.3982982|    -119.725931|Weddings in Santa...|      93109|          13|  5.0|   CA|\n",
      "|956 Embarcadero D...|{NULL, NULL, u'be...|4xhGQGdGqU60BIznB...|Mexican, Beer Bar...|   Isla Vista|{10:0-22:0, 0:0-0...|      0|   34.4115552|   -119.8550772|California Tacos ...|      93117|          49|  4.0|   CA|\n",
      "|      6584 Madrid Rd|{NULL, NULL, NULL...|Rad7bl6MFOEemh41C...|Community Service...|   Isla Vista|{10:0-22:0, 10:0-...|      0|   34.4126811|   -119.8575491|Isla Vista Commun...|      93117|           6|  5.0|   CA|\n",
      "|  2733 De La Vina St|{NULL, NULL, u'no...|ifjluUv4VASwmFqEp...|  Pizza, Restaurants|Santa Barbara|{11:0-21:30, NULL...|      1|   34.4362361|   -119.7261474|       Marty's Pizza|      93105|          64|  4.0|   CA|\n",
      "|7320 Hollister Av...|{NULL, NULL, u'be...|VeFfrEZ4iWaecrQg6...|Burgers, Cafes, R...|       Goleta|{8:0-20:30, 0:0-0...|      1|   34.4305419|    -119.882367|            Cal Taco|      93117|         189|  4.0|   CA|\n",
      "|        930 State St|                NULL|4pS7qnjJ7_DCoJB-E...|Shopping, Home & ...|Santa Barbara|{10:0-17:30, 10:0...|      1|   34.4214452|   -119.7014496|Prop and Decor Ou...|      93101|           5|  4.0|   CA|\n",
      "|23 Hitchcock Way,...|{NULL, NULL, NULL...|X7FQ5k29A_RRYep7T...|Health & Medical,...|Santa Barbara|{NULL, NULL, NULL...|      1|34.4392950745|-119.7443122433|Dawna Ara, DACM, LAc|      93105|          54|  5.0|   CA|\n",
      "|903 Embarcadero D...|{NULL, NULL, u'no...|bdfZdB2MTXlT6-RBj...|Food, Restaurants...|   Isla Vista|{11:0-22:0, 11:0-...|      1|   34.4129345|   -119.8555307|          Pho Bistro|      93117|         184|  3.0|   CA|\n",
      "|       1105 State St|{NULL, NULL, NULL...|VEbHYioBfoPiIOWnt...|Shopping, Women's...|Santa Barbara|{10:0-18:0, 10:0-...|      0|    34.422317|   -119.7036672|           Tienda Ho|      93101|          34|  4.5|   CA|\n",
      "|       270 Storke Rd|{NULL, NULL, u'be...|xwSWtJcQkzTF6HNm_...|Chicken Wings, Sa...|       Goleta|{11:0-0:0, 0:0-0:...|      1|   34.4290427|   -119.8693616|Rusty's Pizza Parlor|      93117|          94|  2.5|   CA|\n",
      "| 436 State St, Ste B|{NULL, NULL, NULL...|82suwumWp1MEq04Qh...|Recreation Center...|Santa Barbara|{16:0-20:0, 11:0-...|      0|   34.4167818|   -119.6951394|Surreal Virtual R...|      93101|          30|  5.0|   CA|\n",
      "|   118 Nopalitos Way|{NULL, NULL, NULL...|uHprVoxTV7CwKJdaE...|Masonry/Concrete,...|Santa Barbara|{7:30-16:0, 7:30-...|      1|    34.419063|   -119.6783917|Challenge Asphalt...|      93103|          18|  4.0|   CA|\n",
      "+--------------------+--------------------+--------------------+--------------------+-------------+--------------------+-------+-------------+---------------+--------------------+-----------+------------+-----+-----+\n",
      "only showing top 20 rows\n",
      "\n"
     ]
    }
   ],
   "source": [
    "spark.sql(\"SELECT * FROM global_temp.CA\").show()"
   ]
  },
  {
   "cell_type": "code",
   "execution_count": 9,
   "metadata": {},
   "outputs": [
    {
     "name": "stdout",
     "output_type": "stream",
     "text": [
      "+--------------------+--------------------+--------------------+--------------------+-------------+--------------------+-------+-------------+---------------+--------------------+-----------+------------+-----+-----+\n",
      "|             address|          attributes|         business_id|          categories|         city|               hours|is_open|     latitude|      longitude|                name|postal_code|review_count|stars|state|\n",
      "+--------------------+--------------------+--------------------+--------------------+-------------+--------------------+-------+-------------+---------------+--------------------+-----------+------------+-----+-----+\n",
      "|    827-833 State St|{NULL, NULL, NULL...|noByYNtDLQAra9ccq...|Women's Clothing,...|Santa Barbara|{11:0-18:0, 11:0-...|      1|34.4202089255|-119.7004597389|                 H&M|      93101|          24|  3.0|   CA|\n",
      "|131 Anacapa St, S...|{NULL, NULL, u'no...|IDtLPgUrqorrpqSLd...|Food, Restaurants...|Santa Barbara|{8:0-14:0, 0:0-0:...|      1|   34.4144445|   -119.6906718|Helena Avenue Bakery|      93101|         389|  4.0|   CA|\n",
      "|      825 Cacique St|{NULL, NULL, NULL...|nUqrF-h9S7myCcvND...|Towing, Automotiv...|Santa Barbara|{8:0-17:0, 0:0-0:...|      1|   34.4196198|   -119.6770319|Iron Horse Auto Body|      93103|          32|  4.5|   CA|\n",
      "|                    |{NULL, NULL, NULL...|bYjnX_J1bHZob10Do...|Parenting Classes...|Santa Barbara|{10:0-18:0, 0:0-0...|      1|    34.420334|   -119.7107494|Tinkle Belle Diap...|      93101|          17|  5.0|   CA|\n",
      "|   230 Stearns Wharf|{NULL, NULL, 'bee...|SZU9c8V2GuREDN5Kg...|Live/Raw Food, Re...|Santa Barbara|{11:0-21:0, 0:0-0...|      1|   34.4087147|   -119.6850187|Santa Barbara She...|      93101|        2404|  4.0|   CA|\n",
      "|       1228 State St|{NULL, NULL, NULL...|QZU7TcrztBb3tXaPb...|Beauty & Spas, Ta...|Santa Barbara|{12:0-20:0, 12:0-...|      1|   34.4241297|   -119.7053211|             805 Ink|      93101|          68|  4.5|   CA|\n",
      "|         1 Garden St|{NULL, NULL, NULL...|25Uww0C0wvF9CZ_3B...|Motorcycle Rental...|Santa Barbara|{9:0-17:0, 9:0-17...|      1|34.4143420056|-119.6873324599|  Enjoy The Mountain|      93105|          48|  4.5|   CA|\n",
      "|263 Santa Monica Way|{NULL, NULL, NULL...|xF9r1XbMvEOsJeHlm...|Professional Serv...|Santa Barbara|{6:0-23:30, 6:0-2...|      1|   34.3982982|    -119.725931|Weddings in Santa...|      93109|          13|  5.0|   CA|\n",
      "|  2733 De La Vina St|{NULL, NULL, u'no...|ifjluUv4VASwmFqEp...|  Pizza, Restaurants|Santa Barbara|{11:0-21:30, NULL...|      1|   34.4362361|   -119.7261474|       Marty's Pizza|      93105|          64|  4.0|   CA|\n",
      "|        930 State St|                NULL|4pS7qnjJ7_DCoJB-E...|Shopping, Home & ...|Santa Barbara|{10:0-17:30, 10:0...|      1|   34.4214452|   -119.7014496|Prop and Decor Ou...|      93101|           5|  4.0|   CA|\n",
      "|23 Hitchcock Way,...|{NULL, NULL, NULL...|X7FQ5k29A_RRYep7T...|Health & Medical,...|Santa Barbara|{NULL, NULL, NULL...|      1|34.4392950745|-119.7443122433|Dawna Ara, DACM, LAc|      93105|          54|  5.0|   CA|\n",
      "|   118 Nopalitos Way|{NULL, NULL, NULL...|uHprVoxTV7CwKJdaE...|Masonry/Concrete,...|Santa Barbara|{7:30-16:0, 7:30-...|      1|    34.419063|   -119.6783917|Challenge Asphalt...|      93103|          18|  4.0|   CA|\n",
      "|      528 Anacapa St|{NULL, NULL, NULL...|-kY_HDP7IMvGl-kBI...|Coffee & Tea, Cof...|Santa Barbara|{6:0-17:0, 6:0-17...|      1|   34.4189939|   -119.6950684|Dune Coffee Roast...|      93101|         320|  4.0|   CA|\n",
      "|     520 Castillo St|{NULL, NULL, NULL...|6jomGWEI4ryImrWPg...|Fitness & Instruc...|Santa Barbara|{5:0-15:0, 0:0-0:...|      1|    34.413384|   -119.7003408|Santa Barbara Ath...|      93101|          55|  3.0|   CA|\n",
      "|1510 Mission Ridg...|{NULL, NULL, NULL...|VeIrgRMOK_0ZToziU...|  Parks, Active Life|Santa Barbara|{7:30-16:30, 7:30...|      1|   34.4399258|   -119.6939139|     Franceschi Park|      93103|          26|  4.5|   CA|\n",
      "|                    |{NULL, NULL, NULL...|BkmVHg6HjHWMc0OFx...|Hair Stylists, Be...|Santa Barbara|{9:0-17:0, NULL, ...|      1|   34.4381407|   -119.6151426|Hair By Audrey Jo...|      93108|           5|  5.0|   CA|\n",
      "|       3868 State St|{NULL, NULL, NULL...|Jb1MlURq6ItKZ244t...|Real Estate Agent...|Santa Barbara|{0:0-0:0, 0:0-0:0...|      1|   34.4408006|   -119.7494444|Jessie Sessions -...|      93105|          19|  5.0|   CA|\n",
      "|  San Marcos Pass Rd|{NULL, NULL, NULL...|B5XSoSG3SfvQGtKEG...|  Parks, Active Life|Santa Barbara|                NULL|      1|    34.597239|    -119.510772|Los Padres Nation...|      93105|          13|  4.5|   CA|\n",
      "|116 Santa Barbara St|{NULL, NULL, 'bee...|-ujBP1Dw0j1-Ffaz9...|Beer, Wine & Spir...|Santa Barbara|{11:30-0:0, 0:0-0...|      1|   34.4157471|   -119.6884801|   Lama Dog Tap Room|      93101|         238|  4.0|   CA|\n",
      "| 324 State St, Ste C|{False, NULL, NUL...|wYROX7rw9fkQrWUS2...|Trainers, Health ...|Santa Barbara|{5:0-19:0, 5:0-19...|      1|   34.4157298|   -119.6936606| Will Nelson Fitness|      93101|           7|  5.0|   CA|\n",
      "+--------------------+--------------------+--------------------+--------------------+-------------+--------------------+-------+-------------+---------------+--------------------+-----------+------------+-----+-----+\n",
      "only showing top 20 rows\n",
      "\n",
      "+--------+\n",
      "|count(1)|\n",
      "+--------+\n",
      "|    3020|\n",
      "+--------+\n",
      "\n"
     ]
    }
   ],
   "source": [
    "spark.sql(\"SELECT * FROM global_temp.CA WHERE city == 'Santa Barbara' AND is_open == 1\").show()\n",
    "spark.sql(\"SELECT COUNT(*) FROM global_temp.CA WHERE city = 'Santa Barbara' AND is_open == 1\").show()"
   ]
  },
  {
   "cell_type": "code",
   "execution_count": 10,
   "metadata": {},
   "outputs": [
    {
     "name": "stdout",
     "output_type": "stream",
     "text": [
      "+--------------------+--------------------+--------------------+--------------------+-------------+--------------------+-------+-------------+---------------+--------------------+-----------+------------+-----+-----+\n",
      "|             address|          attributes|         business_id|          categories|         city|               hours|is_open|     latitude|      longitude|                name|postal_code|review_count|stars|state|\n",
      "+--------------------+--------------------+--------------------+--------------------+-------------+--------------------+-------+-------------+---------------+--------------------+-----------+------------+-----+-----+\n",
      "|131 Anacapa St, S...|{NULL, NULL, u'no...|IDtLPgUrqorrpqSLd...|Food, Restaurants...|Santa Barbara|{8:0-14:0, 0:0-0:...|      1|   34.4144445|   -119.6906718|Helena Avenue Bakery|      93101|         389|  4.0|   CA|\n",
      "|      825 Cacique St|{NULL, NULL, NULL...|nUqrF-h9S7myCcvND...|Towing, Automotiv...|Santa Barbara|{8:0-17:0, 0:0-0:...|      1|   34.4196198|   -119.6770319|Iron Horse Auto Body|      93103|          32|  4.5|   CA|\n",
      "|                    |{NULL, NULL, NULL...|bYjnX_J1bHZob10Do...|Parenting Classes...|Santa Barbara|{10:0-18:0, 0:0-0...|      1|    34.420334|   -119.7107494|Tinkle Belle Diap...|      93101|          17|  5.0|   CA|\n",
      "|   230 Stearns Wharf|{NULL, NULL, 'bee...|SZU9c8V2GuREDN5Kg...|Live/Raw Food, Re...|Santa Barbara|{11:0-21:0, 0:0-0...|      1|   34.4087147|   -119.6850187|Santa Barbara She...|      93101|        2404|  4.0|   CA|\n",
      "|       1228 State St|{NULL, NULL, NULL...|QZU7TcrztBb3tXaPb...|Beauty & Spas, Ta...|Santa Barbara|{12:0-20:0, 12:0-...|      1|   34.4241297|   -119.7053211|             805 Ink|      93101|          68|  4.5|   CA|\n",
      "|         1 Garden St|{NULL, NULL, NULL...|25Uww0C0wvF9CZ_3B...|Motorcycle Rental...|Santa Barbara|{9:0-17:0, 9:0-17...|      1|34.4143420056|-119.6873324599|  Enjoy The Mountain|      93105|          48|  4.5|   CA|\n",
      "|263 Santa Monica Way|{NULL, NULL, NULL...|xF9r1XbMvEOsJeHlm...|Professional Serv...|Santa Barbara|{6:0-23:30, 6:0-2...|      1|   34.3982982|    -119.725931|Weddings in Santa...|      93109|          13|  5.0|   CA|\n",
      "|  2733 De La Vina St|{NULL, NULL, u'no...|ifjluUv4VASwmFqEp...|  Pizza, Restaurants|Santa Barbara|{11:0-21:30, NULL...|      1|   34.4362361|   -119.7261474|       Marty's Pizza|      93105|          64|  4.0|   CA|\n",
      "|        930 State St|                NULL|4pS7qnjJ7_DCoJB-E...|Shopping, Home & ...|Santa Barbara|{10:0-17:30, 10:0...|      1|   34.4214452|   -119.7014496|Prop and Decor Ou...|      93101|           5|  4.0|   CA|\n",
      "|23 Hitchcock Way,...|{NULL, NULL, NULL...|X7FQ5k29A_RRYep7T...|Health & Medical,...|Santa Barbara|{NULL, NULL, NULL...|      1|34.4392950745|-119.7443122433|Dawna Ara, DACM, LAc|      93105|          54|  5.0|   CA|\n",
      "|   118 Nopalitos Way|{NULL, NULL, NULL...|uHprVoxTV7CwKJdaE...|Masonry/Concrete,...|Santa Barbara|{7:30-16:0, 7:30-...|      1|    34.419063|   -119.6783917|Challenge Asphalt...|      93103|          18|  4.0|   CA|\n",
      "|      528 Anacapa St|{NULL, NULL, NULL...|-kY_HDP7IMvGl-kBI...|Coffee & Tea, Cof...|Santa Barbara|{6:0-17:0, 6:0-17...|      1|   34.4189939|   -119.6950684|Dune Coffee Roast...|      93101|         320|  4.0|   CA|\n",
      "|1510 Mission Ridg...|{NULL, NULL, NULL...|VeIrgRMOK_0ZToziU...|  Parks, Active Life|Santa Barbara|{7:30-16:30, 7:30...|      1|   34.4399258|   -119.6939139|     Franceschi Park|      93103|          26|  4.5|   CA|\n",
      "|                    |{NULL, NULL, NULL...|BkmVHg6HjHWMc0OFx...|Hair Stylists, Be...|Santa Barbara|{9:0-17:0, NULL, ...|      1|   34.4381407|   -119.6151426|Hair By Audrey Jo...|      93108|           5|  5.0|   CA|\n",
      "|       3868 State St|{NULL, NULL, NULL...|Jb1MlURq6ItKZ244t...|Real Estate Agent...|Santa Barbara|{0:0-0:0, 0:0-0:0...|      1|   34.4408006|   -119.7494444|Jessie Sessions -...|      93105|          19|  5.0|   CA|\n",
      "|  San Marcos Pass Rd|{NULL, NULL, NULL...|B5XSoSG3SfvQGtKEG...|  Parks, Active Life|Santa Barbara|                NULL|      1|    34.597239|    -119.510772|Los Padres Nation...|      93105|          13|  4.5|   CA|\n",
      "|116 Santa Barbara St|{NULL, NULL, 'bee...|-ujBP1Dw0j1-Ffaz9...|Beer, Wine & Spir...|Santa Barbara|{11:30-0:0, 0:0-0...|      1|   34.4157471|   -119.6884801|   Lama Dog Tap Room|      93101|         238|  4.0|   CA|\n",
      "| 324 State St, Ste C|{False, NULL, NUL...|wYROX7rw9fkQrWUS2...|Trainers, Health ...|Santa Barbara|{5:0-19:0, 5:0-19...|      1|   34.4157298|   -119.6936606| Will Nelson Fitness|      93101|           7|  5.0|   CA|\n",
      "|       1 S Milpas St|{NULL, NULL, NULL...|dFEyk7Si7R-CHCMbx...|Automotive, Auto ...|Santa Barbara|                NULL|      1|    34.421701|   -119.6785539|     A-1 Auto Repair|      93103|          21|  5.0|   CA|\n",
      "|1213 State St, Ste L|{NULL, NULL, NULL...|UFpCraqzFBAhtZqmx...|Themed Cafes, Caf...|Santa Barbara|{10:0-20:0, 10:0-...|      1|34.4233018995|-119.7054707479|         Cat Therapy|      93101|         116|  4.5|   CA|\n",
      "+--------------------+--------------------+--------------------+--------------------+-------------+--------------------+-------+-------------+---------------+--------------------+-----------+------------+-----+-----+\n",
      "only showing top 20 rows\n",
      "\n",
      "+--------+\n",
      "|count(1)|\n",
      "+--------+\n",
      "|    2215|\n",
      "+--------+\n",
      "\n"
     ]
    }
   ],
   "source": [
    "spark.sql(\"SELECT * FROM global_temp.CA WHERE city = 'Santa Barbara' AND is_open == 1 AND stars >= 3.9\").show()\n",
    "spark.sql(\"SELECT COUNT(*) FROM global_temp.CA WHERE city = 'Santa Barbara' AND is_open == 1 AND stars >= 3.9\").show()"
   ]
  },
  {
   "cell_type": "code",
   "execution_count": 11,
   "metadata": {},
   "outputs": [
    {
     "name": "stdout",
     "output_type": "stream",
     "text": [
      "+-----------------+\n",
      "|       avg(stars)|\n",
      "+-----------------+\n",
      "|4.126490066225165|\n",
      "+-----------------+\n",
      "\n"
     ]
    }
   ],
   "source": [
    "spark.sql(\"SELECT AVG(stars) FROM global_temp.CA WHERE city = 'Santa Barbara' AND is_open == 1\").show()"
   ]
  },
  {
   "cell_type": "code",
   "execution_count": 12,
   "metadata": {},
   "outputs": [
    {
     "name": "stdout",
     "output_type": "stream",
     "text": [
      "+--------------------+--------------------+--------------------+--------------------+----------+--------------------+-------+-------------+---------------+--------------------+-----------+------------+-----+-----+\n",
      "|             address|          attributes|         business_id|          categories|      city|               hours|is_open|     latitude|      longitude|                name|postal_code|review_count|stars|state|\n",
      "+--------------------+--------------------+--------------------+--------------------+----------+--------------------+-------+-------------+---------------+--------------------+-----------+------------+-----+-----+\n",
      "|6530 Pardall Rd, ...|                NULL|2eVDlVkr2uD3wdr6P...|Banks & Credit Un...|Isla Vista|{9:30-16:0, 9:30-...|      1|34.4132270968| -119.854801856|    Wells Fargo Bank|      93117|           9|  4.5|   CA|\n",
      "|948 Embarcadero D...|{NULL, NULL, NULL...|5RsVAkDnMrcSbErS6...|Food, Internet Ca...|Isla Vista|{7:0-17:30, 7:0-1...|      1|    34.411997|    -119.855139|Cajé Coffee Roast...|      93117|         251|  4.5|   CA|\n",
      "|6530 Seville Rd, ...|{NULL, NULL, u'no...|A2slwG21Uulatt357...|Comfort Food, Bub...|Isla Vista|{13:0-18:0, 0:0-0...|      1|   34.4119983|   -119.8548964|Mojo Asian Fusion...|      93117|          98|  4.0|   CA|\n",
      "|901 Embarcadero D...|{NULL, NULL, u'no...|tjIIpbimdbi9Lrb-D...|Food, Asian Fusio...|Isla Vista|{11:0-21:0, NULL,...|      1|   34.4129239|   -119.8573375|               Kaiju|      93117|          64|  4.0|   CA|\n",
      "|901 Embarcadero D...|{NULL, NULL, u'no...|Gg2ZHe57Ztuv8JaFj...|American (New), F...|Isla Vista|{11:0-0:0, 11:0-2...|      1|34.4128881677|-119.8572194666|   Dank Bowl Kitchen|      93117|         333|  4.5|   CA|\n",
      "|6565 Trigo Rd, Ste C|                NULL|QIXcFXIxxvUZvx_M8...|Fitness & Instruc...|Isla Vista|{15:0-18:0, 15:0-...|      1|   34.4108946|    -119.857767|Duke's Boxing and...|      93117|           8|  4.0|   CA|\n",
      "|6739 El Colegio R...|                NULL|mLfORHf-BkEpLGsHH...|Home Services, Ap...|Isla Vista|{9:0-18:0, 9:0-18...|      1|   34.4167165|   -119.8642538|The Tahitian Apar...|      93117|          16|  4.5|   CA|\n",
      "|928 Embarcadero D...|{NULL, NULL, u'be...|YxWiv24PHCseiVvGl...|Vegetarian, Glute...|Isla Vista|{11:0-21:0, 11:0-...|      1|34.4123310634|-119.8552291118|Woodstock's Pizza...|      93117|         485|  4.0|   CA|\n",
      "|       6533 Trigo Rd|{NULL, NULL, u'be...|m-EfDi7UBwdiEBm7N...|  Restaurants, Pizza|Isla Vista|{11:0-21:0, 11:0-...|      1|     34.41099|    -119.855278|      Pizza My Heart|      93117|         151|  4.0|   CA|\n",
      "|888 Embarcadero D...|{NULL, NULL, u'no...|EUzWWnvcx1pkkWxk2...|Burgers, Restaura...|Isla Vista|{10:30-20:30, 0:0...|      1|34.4132557706|-119.8551922082|           The Habit|      93117|          59|  4.0|   CA|\n",
      "|900 Embarcadero D...|{NULL, NULL, NULL...|C6QDsSYH-Y-ychVEv...|Eyelash Service, ...|Isla Vista|{10:0-14:0, NULL,...|      1|   34.4129659|   -119.8568855|      The B Boutique|      93117|          38|  4.0|   CA|\n",
      "|955 Embarcadero D...|{NULL, NULL, u'no...|x1YPj22nR3b0S_fDV...|Chicken Shop, Kor...|Isla Vista|{17:0-21:0, 0:0-0...|      1|   34.4120096|   -119.8575399|        Vons Chicken|      93117|          64|  4.0|   CA|\n",
      "|     6560 Pardall Rd|{NULL, NULL, u'be...|SeneXbKmhHhPtzyTD...|Bars, American (N...|Isla Vista|{9:0-22:30, 9:0-2...|      1|    34.413137|   -119.8566658|Sam's To Go - Isl...|      93117|         135|  4.0|   CA|\n",
      "|            Ocean Rd|{NULL, NULL, 'non...|Y-qMi8FQYC6-wq-4w...|Restaurants, Ital...|Isla Vista|{17:0-20:0, 17:0-...|      1|34.4099512929|-119.8527449369|Carrillo Dining C...|      93117|           7|  4.0|   CA|\n",
      "|                    |{NULL, NULL, NULL...|55zEtEb0nA6A-RvkZ...|Meditation Center...|Isla Vista|{0:0-0:0, 0:0-0:0...|      1|   34.4133292|   -119.8609718|Mindbody Surf and...|      93117|           7|  4.5|   CA|\n",
      "|           Slough Rd|{NULL, NULL, NULL...|w9l-jPgVb2IeM0g-2...|Beaches, Active L...|Isla Vista|                NULL|      1|34.4071191799|-119.8787195916|Coal Oil Point Re...|      93117|           6|  4.5|   CA|\n",
      "|6530 Seville Rd, ...|{NULL, NULL, NULL...|ajMHxCdDtGPn7Ngfc...|Bagels, Bakeries,...|Isla Vista|{5:0-16:0, 5:0-16...|      1|   34.4119196|   -119.8548175|     Spudnuts Donuts|      93117|          56|  4.0|   CA|\n",
      "|6549 Pardall Rd, ...|{NULL, NULL, NULL...|ro2IvWR8mWM06NYpi...|Bikes, Sporting G...|Isla Vista|{10:0-17:0, 0:0-0...|      1|   34.4129469|   -119.8560718|   Varsity Bike Shop|      93117|          54|  4.5|   CA|\n",
      "|6560 Pardall Rd, ...|{NULL, NULL, u'no...|vmq2cm0Ayol4toVsL...|Juice Bars & Smoo...|Isla Vista|{7:0-18:0, 0:0-0:...|      1|   34.4132765|   -119.8567759|Blenders In the G...|      93117|         187|  4.5|   CA|\n",
      "|879 Embarcadero D...|{NULL, NULL, 'bee...|Rl42JbSMsmNW3LRjs...|Salad, Restaurant...|Isla Vista|{11:0-23:0, 11:0-...|      1|   34.4132668|   -119.8556875|           Freebirds|      93117|        1270|  4.0|   CA|\n",
      "+--------------------+--------------------+--------------------+--------------------+----------+--------------------+-------+-------------+---------------+--------------------+-----------+------------+-----+-----+\n",
      "\n",
      "+--------+\n",
      "|count(1)|\n",
      "+--------+\n",
      "|      20|\n",
      "+--------+\n",
      "\n",
      "+-----------------+\n",
      "|       avg(stars)|\n",
      "+-----------------+\n",
      "|3.404255319148936|\n",
      "+-----------------+\n",
      "\n"
     ]
    }
   ],
   "source": [
    "spark.sql(\"SELECT * FROM global_temp.CA WHERE city = 'Isla Vista' AND is_open == 1 AND stars >= 3.9\").show()\n",
    "spark.sql(\"SELECT COUNT(*) FROM global_temp.CA WHERE city = 'Isla Vista' AND is_open == 1 AND stars >= 3.9\").show()\n",
    "spark.sql(\"SELECT AVG(stars) FROM global_temp.CA WHERE city = 'Isla Vista' AND is_open == 1\").show()"
   ]
  },
  {
   "cell_type": "code",
   "execution_count": 13,
   "metadata": {},
   "outputs": [
    {
     "name": "stderr",
     "output_type": "stream",
     "text": [
      "24/09/11 10:17:57 WARN GarbageCollectionMetrics: To enable non-built-in garbage collector(s) List(G1 Concurrent GC), users should configure it(them) to spark.eventLog.gcMetrics.youngGenerationGarbageCollectors or spark.eventLog.gcMetrics.oldGenerationGarbageCollectors\n",
      "                                                                                \r"
     ]
    }
   ],
   "source": [
    "yelp_reviews = spark.read.json(\"../json_data/yelp_academic_dataset_review.json\")"
   ]
  },
  {
   "cell_type": "code",
   "execution_count": 14,
   "metadata": {},
   "outputs": [
    {
     "data": {
      "text/plain": [
       "Row(business_id='XQfwVwDr-v0ZS3_CbbE5Xw', cool=0, date='2018-07-07 22:09:11', funny=0, review_id='KU_O5udG6zpxOg-VcAEodg', stars=3.0, text=\"If you decide to eat here, just be aware it is going to take about 2 hours from beginning to end. We have tried it multiple times, because I want to like it! I have been to it's other locations in NJ and never had a bad experience. \\n\\nThe food is good, but it takes a very long time to come out. The waitstaff is very young, but usually pleasant. We have just had too many experiences where we spent way too long waiting. We usually opt for another diner or restaurant on the weekends, in order to be done quicker.\", useful=0, user_id='mh_-eMZ6K5RLWhZyISBhwA')"
      ]
     },
     "execution_count": 14,
     "metadata": {},
     "output_type": "execute_result"
    }
   ],
   "source": [
    "yelp_reviews.createGlobalTempView(\"reviews\")\n",
    "yelp_reviews.head()"
   ]
  },
  {
   "cell_type": "code",
   "execution_count": 15,
   "metadata": {},
   "outputs": [
    {
     "name": "stdout",
     "output_type": "stream",
     "text": [
      "+--------------------+-------------+------------+-----+--------------------+\n",
      "|         business_id|         city|review_count|stars|                name|\n",
      "+--------------------+-------------+------------+-----+--------------------+\n",
      "|YbnJYHNp_fHbI-hcF...|Santa Barbara|         195|  5.0|Santa Barbara Adv...|\n",
      "|18eWJFJbXyR9j_5xf...|  Carpinteria|         460|  4.5|       Siam Elephant|\n",
      "|pUVRCYL8rT4I5Ry5F...|Santa Barbara|         105|  4.5|Topa Topa Brewing...|\n",
      "|eL4lyE7LNoXEMvpcJ...|Santa Barbara|         472|  4.0|Deep Sea Tasting ...|\n",
      "|SZU9c8V2GuREDN5Kg...|Santa Barbara|        2404|  4.0|Santa Barbara She...|\n",
      "|qdpdUjdkEUpzYDdce...|Santa Barbara|         188|  4.0|          Plaza Deli|\n",
      "|ujN8QWiLDqNhcu4LQ...|       Goleta|         308|  3.5|Toyota Of Santa B...|\n",
      "|-Fka99c-tJ-epWYNI...|Santa Barbara|         169|  3.5|         Pizza Mizza|\n",
      "|NYYPj2WpUuIz2mP6Y...|       Goleta|          98|  4.5|Classic Collision...|\n",
      "|uI15YInpDsGBUZcNf...|  Carpinteria|         169|  4.0|Borrello's Pizza ...|\n",
      "|O6RCCmz8-x4NhWJpI...|Santa Barbara|         108|  4.0|Breakfast Culture...|\n",
      "|tASk64QgOZgeM_APz...|Santa Barbara|         101|  5.0|Urban Optics Opto...|\n",
      "|YB689VFiOlzUTBRPi...|Santa Barbara|          17|  3.0|        Terraza Cafe|\n",
      "|im35mq8Fz1VZfYu4j...|Santa Barbara|          86|  4.0|      Modern Laundry|\n",
      "|gebiRewfieSdtt17P...|Santa Barbara|         488|  3.5|Hibachi Steak Hou...|\n",
      "|EaTbY8HFwwF7i3SjV...|    Montecito|         142|  4.0|Montecito Wine Bi...|\n",
      "|NYYPj2WpUuIz2mP6Y...|       Goleta|          98|  4.5|Classic Collision...|\n",
      "|0qu0fNTOsSmuREYVI...|Santa Barbara|        1018|  4.5|  Cold Spring Tavern|\n",
      "|0qu0fNTOsSmuREYVI...|Santa Barbara|        1018|  4.5|  Cold Spring Tavern|\n",
      "|7j8rT3FZbXgL4k0Dn...|Santa Barbara|         137|  4.0|West Beach Inn, a...|\n",
      "+--------------------+-------------+------------+-----+--------------------+\n",
      "only showing top 20 rows\n",
      "\n"
     ]
    },
    {
     "name": "stderr",
     "output_type": "stream",
     "text": [
      "[Stage 29:============================================>           (32 + 8) / 40]\r"
     ]
    },
    {
     "name": "stdout",
     "output_type": "stream",
     "text": [
      "+---------------------------------------------+\n",
      "|count(business_id, city, review_count, stars)|\n",
      "+---------------------------------------------+\n",
      "|                                        66092|\n",
      "+---------------------------------------------+\n",
      "\n"
     ]
    },
    {
     "name": "stderr",
     "output_type": "stream",
     "text": [
      "                                                                                \r"
     ]
    }
   ],
   "source": [
    "spark.sql(\"SELECT global_temp.CA.business_id, global_temp.CA.city, global_temp.CA.review_count, global_temp.CA.stars, global_temp.CA.name FROM global_temp.CA INNER JOIN global_temp.reviews ON global_temp.reviews.business_id = global_temp.CA.business_id WHERE global_temp.reviews.useful >= 2 AND global_temp.CA.stars >= 3\").show()\n",
    "spark.sql(\"SELECT COUNT(global_temp.CA.business_id, global_temp.CA.city, global_temp.CA.review_count, global_temp.CA.stars) FROM global_temp.CA INNER JOIN global_temp.reviews ON global_temp.reviews.business_id = global_temp.CA.business_id WHERE global_temp.reviews.useful >= 2 AND global_temp.CA.stars >= 3\").show()"
   ]
  },
  {
   "cell_type": "code",
   "execution_count": 16,
   "metadata": {},
   "outputs": [
    {
     "name": "stdout",
     "output_type": "stream",
     "text": [
      "+--------------------+--------------------+--------------------+\n",
      "|         business_id|                name|                text|\n",
      "+--------------------+--------------------+--------------------+\n",
      "|IDtLPgUrqorrpqSLd...|Helena Avenue Bakery|If you decide to ...|\n",
      "|18eWJFJbXyR9j_5xf...|       Siam Elephant|If you decide to ...|\n",
      "|vLT1KtrA9bWvjFOg-...|   Pieology Pizzeria|If you decide to ...|\n",
      "|Hqz96v1ymucUKNzIW...|              Subway|If you decide to ...|\n",
      "|JWFpjvCc_nkNDVtMP...|             Bogo SB|If you decide to ...|\n",
      "|TZ-bgvsk189WywTLF...|Ascending Health ...|If you decide to ...|\n",
      "|uFF40n9pOqHK1ciaj...|   Tony's Restaurant|If you decide to ...|\n",
      "|GgcvRnt5_z3NEC0D6...|   Cafe Buenos Aires|If you decide to ...|\n",
      "|N-CBZKO37y_WSUN7Z...|Taqueria El Pasto...|If you decide to ...|\n",
      "|oXP5aohLv5e7R4eah...|B and D's Curbsid...|If you decide to ...|\n",
      "|bjhCtlYHrkgA5Ku8l...|     Our Daily Bread|If you decide to ...|\n",
      "|cbkrO0zra1OiNGvtj...|Wok On the Wild Side|If you decide to ...|\n",
      "|pUVRCYL8rT4I5Ry5F...|Topa Topa Brewing...|If you decide to ...|\n",
      "|SOl2m-ZsAmnCuQGdM...|Red Pepper Chines...|If you decide to ...|\n",
      "|jW4a3W9-UkFxpglHv...|  Meun Fan Thai Cafe|If you decide to ...|\n",
      "|3RtMd3VZ21WL5auDr...|           Cafe Zoma|If you decide to ...|\n",
      "|uI15YInpDsGBUZcNf...|Borrello's Pizza ...|If you decide to ...|\n",
      "|Wy8Hswf2cLQGRZN6a...|     Jack in the Box|If you decide to ...|\n",
      "|vC2qm1y3Au5czBtbh...|          Sushi Teri|If you decide to ...|\n",
      "|DD3TxygdxBxKh9gbj...|    Events By Rincon|If you decide to ...|\n",
      "+--------------------+--------------------+--------------------+\n",
      "only showing top 20 rows\n",
      "\n"
     ]
    },
    {
     "name": "stderr",
     "output_type": "stream",
     "text": [
      "[Stage 35:============================================>           (32 + 8) / 40]\r"
     ]
    },
    {
     "name": "stdout",
     "output_type": "stream",
     "text": [
      "+----------+\n",
      "|  count(1)|\n",
      "+----------+\n",
      "|3467178880|\n",
      "+----------+\n",
      "\n"
     ]
    },
    {
     "name": "stderr",
     "output_type": "stream",
     "text": [
      "                                                                                \r"
     ]
    }
   ],
   "source": [
    "# Lets explore all restaurants within Santa Barbara\n",
    "spark.sql(\"SELECT global_temp.CA.business_id, global_temp.CA.name, global_temp.reviews.text FROM global_temp.reviews INNER JOIN global_temp.CA ON global_temp.CA.business_id = global_temp.CA.business_id WHERE global_temp.CA.city = 'Santa Barbara' AND ',' || categories || ',' LIKE '%,Food,%' OR ',' || categories || ',' LIKE '%,Restaurants,%'\").show()\n",
    "spark.sql(\"SELECT COUNT(*) FROM global_temp.reviews INNER JOIN global_temp.CA ON global_temp.CA.business_id = global_temp.CA.business_id WHERE global_temp.CA.city = 'Santa Barbara' AND ',' || categories || ',' LIKE '%,Food,%' OR ',' || categories || ',' LIKE '%,Restaurants,%'\").show()"
   ]
  },
  {
   "cell_type": "code",
   "execution_count": 17,
   "metadata": {},
   "outputs": [
    {
     "name": "stdout",
     "output_type": "stream",
     "text": [
      "+--------------------+--------------------+--------------------+-----+\n",
      "|         business_id|                name|                text|stars|\n",
      "+--------------------+--------------------+--------------------+-----+\n",
      "|IDtLPgUrqorrpqSLd...|Helena Avenue Bakery|What a great addi...|  5.0|\n",
      "|pUVRCYL8rT4I5Ry5F...|Topa Topa Brewing...|Sweet spot in the...|  5.0|\n",
      "|bjhCtlYHrkgA5Ku8l...|     Our Daily Bread|Very disappointed...|  1.0|\n",
      "|IDtLPgUrqorrpqSLd...|Helena Avenue Bakery|Possibly the best...|  5.0|\n",
      "|k3lTRgvPvYUI-cX7_...|University Club o...|I am so glad we h...|  5.0|\n",
      "|kZtl_NJjUnlIQgzFr...|             Ichiban|Their sushi is pr...|  3.0|\n",
      "|IDtLPgUrqorrpqSLd...|Helena Avenue Bakery|Pricey ( a ham an...|  4.0|\n",
      "|KiE0h68HGOO7ZXAqk...|           Starbucks|I went in when th...|  1.0|\n",
      "|bjhCtlYHrkgA5Ku8l...|     Our Daily Bread|Great  breads esp...|  5.0|\n",
      "|XwnkfMUiyH-OsJXbm...|          Sushi Tyme|My go to place fo...|  4.0|\n",
      "|pUVRCYL8rT4I5Ry5F...|Topa Topa Brewing...|Neat place in the...|  5.0|\n",
      "|GgcvRnt5_z3NEC0D6...|   Cafe Buenos Aires|A very sweet find...|  4.0|\n",
      "|syuKX2pH3JJhOOppz...|            Yoichi's|We were back last...|  5.0|\n",
      "|IDtLPgUrqorrpqSLd...|Helena Avenue Bakery|Are you kidding m...|  5.0|\n",
      "|k3lTRgvPvYUI-cX7_...|University Club o...|I could not be ha...|  5.0|\n",
      "|XwnkfMUiyH-OsJXbm...|          Sushi Tyme|Just had a \"ramen...|  1.0|\n",
      "|GgcvRnt5_z3NEC0D6...|   Cafe Buenos Aires|I have been to th...|  4.0|\n",
      "|fLk_N8vU25DNZmbU-...|Chipotle Mexican ...|FINALLY!   A Chip...|  4.0|\n",
      "|N-CBZKO37y_WSUN7Z...|Taqueria El Pasto...|This is the can't...|  5.0|\n",
      "|jW4a3W9-UkFxpglHv...|  Meun Fan Thai Cafe|This place is del...|  4.0|\n",
      "+--------------------+--------------------+--------------------+-----+\n",
      "only showing top 20 rows\n",
      "\n"
     ]
    }
   ],
   "source": [
    "santa_barbara_reviews = spark.sql(\"SELECT global_temp.CA.business_id, global_temp.CA.name, global_temp.reviews.text, global_temp.reviews.stars FROM global_temp.reviews INNER JOIN global_temp.CA ON global_temp.CA.business_id = global_temp.reviews.business_id WHERE global_temp.CA.city = 'Santa Barbara' AND (',' || categories || ',' LIKE '%,Food,%' OR ',' || categories || ',' LIKE '%,Restaurants,%')\")\n",
    "santa_barbara_reviews.show()"
   ]
  },
  {
   "cell_type": "code",
   "execution_count": 18,
   "metadata": {},
   "outputs": [],
   "source": [
    "from pyspark.sql.functions import rand\n",
    "reviews_text = santa_barbara_reviews.orderBy(rand()).limit(35000).select(\"text\", \"stars\")"
   ]
  },
  {
   "cell_type": "code",
   "execution_count": 19,
   "metadata": {},
   "outputs": [
    {
     "name": "stderr",
     "output_type": "stream",
     "text": [
      "                                                                                \r"
     ]
    },
    {
     "data": {
      "text/html": [
       "<div>\n",
       "<style scoped>\n",
       "    .dataframe tbody tr th:only-of-type {\n",
       "        vertical-align: middle;\n",
       "    }\n",
       "\n",
       "    .dataframe tbody tr th {\n",
       "        vertical-align: top;\n",
       "    }\n",
       "\n",
       "    .dataframe thead th {\n",
       "        text-align: right;\n",
       "    }\n",
       "</style>\n",
       "<table border=\"1\" class=\"dataframe\">\n",
       "  <thead>\n",
       "    <tr style=\"text-align: right;\">\n",
       "      <th></th>\n",
       "      <th>text</th>\n",
       "      <th>stars</th>\n",
       "    </tr>\n",
       "  </thead>\n",
       "  <tbody>\n",
       "    <tr>\n",
       "      <th>0</th>\n",
       "      <td>good simple healthy options great big salads</td>\n",
       "      <td>4.0</td>\n",
       "    </tr>\n",
       "    <tr>\n",
       "      <th>1</th>\n",
       "      <td>i went to reds last night for a girlfriends bi...</td>\n",
       "      <td>4.0</td>\n",
       "    </tr>\n",
       "    <tr>\n",
       "      <th>2</th>\n",
       "      <td>we came here for dinner last night and was abl...</td>\n",
       "      <td>5.0</td>\n",
       "    </tr>\n",
       "    <tr>\n",
       "      <th>3</th>\n",
       "      <td>this place has the best ice cream in the world...</td>\n",
       "      <td>5.0</td>\n",
       "    </tr>\n",
       "    <tr>\n",
       "      <th>4</th>\n",
       "      <td>place is pricey i tried an espresso donut it w...</td>\n",
       "      <td>3.0</td>\n",
       "    </tr>\n",
       "  </tbody>\n",
       "</table>\n",
       "</div>"
      ],
      "text/plain": [
       "                                                text  stars\n",
       "0       good simple healthy options great big salads    4.0\n",
       "1  i went to reds last night for a girlfriends bi...    4.0\n",
       "2  we came here for dinner last night and was abl...    5.0\n",
       "3  this place has the best ice cream in the world...    5.0\n",
       "4  place is pricey i tried an espresso donut it w...    3.0"
      ]
     },
     "execution_count": 19,
     "metadata": {},
     "output_type": "execute_result"
    }
   ],
   "source": [
    "reviews_pd = reviews_text.toPandas()\n",
    "\n",
    "# Cleaning the data\n",
    "reviews_pd['text'] = reviews_pd['text'].str.lower()\n",
    "reviews_pd['text'] = reviews_pd['text'].str.replace(r'[^\\w\\s]', '', regex=True)\n",
    "reviews_pd = reviews_pd.dropna(subset=['text', 'stars'])\n",
    "\n",
    "reviews_pd.head()"
   ]
  },
  {
   "cell_type": "code",
   "execution_count": 20,
   "metadata": {},
   "outputs": [
    {
     "name": "stdout",
     "output_type": "stream",
     "text": [
      "0        4.0\n",
      "1        4.0\n",
      "2        5.0\n",
      "3        5.0\n",
      "4        3.0\n",
      "        ... \n",
      "34995    5.0\n",
      "34996    5.0\n",
      "34997    3.0\n",
      "34998    5.0\n",
      "34999    4.0\n",
      "Name: stars, Length: 35000, dtype: float64\n",
      "text\n",
      "i love your pizza \\n\\nis there a chance you guys will ever be available on doordash                                                                                                                                                                                                                                                                                                                                                                                                                                                                                                                                                                                                                                                                                                                                                                                                                                                                                                                                                                                                                                                                                                                                                                                                                                                                                                                                                                                                                                                                                          3\n",
      "the service was top notch at our stay and the property is just breathtaking \\n\\nhere are a few of our observations considering the caliber and price we paid to stay here \\n\\nfood at the bistro is subpar we had the ribs and filet mignon on a scale of 1 to 5 i would rate our meals a 4 we werent terribly impressed but not disappointed either we went back for lunch the following day since this was the only restaurant open and we were really underwhelmed \\n\\nthe gym\\n\\nthe gym is huge but they can definitely use an upgrade of the nautilus equipment you can tell that the equipment is still the original stuff and probably over a decade old for the price you pay to stay here they should invest in new equipment \\n\\nthe room\\n\\nthe room was really nice but we had a very difficult time sleeping the bed was way too hard and the pillows were too high the shower floor needs to be updated too\\n\\nthe service\\n\\nagain the service was excellent everywhere on the property kudos to you guys \\n\\noverall i would probably stay again at the right price and after a renovation                                                                                                                                                                                                                                                                                                                                                                                                                                                                  2\n",
      "this is thus far the best taco place ive ever tried especially the al pastor and the shrimp tacos everything was perfection from the homemade tortillas to the garnishing of the cilantro so fresh so flavorful so tasty we will be coming back soon definitely recommend  also shout out to chef ramon and his team  awesome guy and very humble he really cares that the customers have a great experience love                                                                                                                                                                                                                                                                                                                                                                                                                                                                                                                                                                                                                                                                                                                                                                                                                                                                                                                                                                                                                                                                                                                                                            2\n",
      "this place is exactly what youd expect from a basic breakfast joint nothing spectacular about the service or food but will satisfy an empty stomach the restaurant itself receives 23 stars at most i got the breakfast burrito and my girlfriend was recommended an omelet but was disappointed after the first bite the reason for the bump in stars is that when explained to our server charles he immediately handled the situation and replaced the omelet not that it cost him anything but he was very understanding and handled the situation with a smile                                                                                                                                                                                                                                                                                                                                                                                                                                                                                                                                                                                                                                                                                                                                                                                                                                                                                                                                                                                                          2\n",
      "i told  the cashier that i wanted a fajita burrito but with no salt no they cant do that i explained to him that i had a pacemaker implanted and wasnt supposed to have salt no they salt everything i ordered anyway hoping it wouldnt be real salty but when i got it home i found it was saltier than a potato chip i have had them in past i thought i had eaten a shaker of salt i wish they could have accommodated my request   usually they are good this one  i couldnt eat  and tossed it                                                                                                                                                                                                                                                                                                                                                                                                                                                                                                                                                                                                                                                                                                                                                                                                                                                                                                                                                                                                                                                                          2\n",
      "                                                                                                                                                                                                                                                                                                                                                                                                                                                                                                                                                                                                                                                                                                                                                                                                                                                                                                                                                                                                                                                                                                                                                                                                                                                                                                                                                                                                                                                                                                                                                                            ..\n",
      "so i had a very specific order for my wedding for the carrillo location i wont damper this review with the negative details of that order but the point is order was confirmed twice and they didnt have the order the day of \\n\\nanyway i called this location in a panic for 150 donuts same day called around 7am for a pickup time of 11am and they were able to do it for me the girl who took the order even apologized for the other location which she wasnt even involved in while i wasnt able to get the specific order i wanted due to the carrillo locations terrible communication this state st location really helped me out also the donuts were delicious thanks so much                                                                                                                                                                                                                                                                                                                                                                                                                                                                                                                                                                                                                                                                                                                                                                                                                                                                                   1\n",
      "when we arrived we were greeted with smiles and immediately seated under a heater our server was kind and attentive and made great recommendations our meal kabob trio veggie platter hummus tzaziki salad and lentil soup was beyond delicious \\njust when we thought the night couldnt get better a brazilian jazz duo took the stage and the night was filled with melodic tunes so beautiful even a love skeptic would find it utterly romantic \\nseated under a starry night with a glass of wine eating amazing food and listening to great music was simply divine                                                                                                                                                                                                                                                                                                                                                                                                                                                                                                                                                                                                                                                                                                                                                                                                                                                                                                                                                                                                    1\n",
      "sometimes the food is fantastic sometimes its not its always a gamble coming here could use more consistency in the kitchen service has always been good when weve dined here though                                                                                                                                                                                                                                                                                                                                                                                                                                                                                                                                                                                                                                                                                                                                                                                                                                                                                                                                                                                                                                                                                                                                                                                                                                                                                                                                                                                         1\n",
      "if you live in the area and have the time to become familiar with the store and their merchandise or lack there of this is a convenient little store for when you need to pick up a couple basic things \\n\\ndo not expect help from any of the employees and if youre looking for anything that isnt a basic grocery store item you most likely will not find it \\n\\non the up side they do have a pretty good alcohol stock                                                                                                                                                                                                                                                                                                                                                                                                                                                                                                                                                                                                                                                                                                                                                                                                                                                                                                                                                                                                                                                                                                                                                 1\n",
      "i took the bae here to try thai food for his first time \\n\\nwe came during lunch on a slow friday and the place was sort of empty with a few people sitting at the booths like a few people mentioned the service wasnt too friendly it was more like just getting the job done very straight forward which i appreciate to an extent however the waiter came to us about four times every 23 minutes to ask if we were ready to order its like please give us some breathing room first yaknow \\n\\nhe ordered the crab rangoon and crab fried rice im a big noodle person so my goto dish for thai food is always one of the following drunken noodles pad see ew or pad thai i ended up going with the pad see ew with chicken \\n\\nwe didnt get the lunch specials because we were starving unknown to us the portions were quite large we both couldnt finish our plates he really liked the crab rangoon and said the crab fried rice could use some more soy sauce i had a taste and it was supercrabby in smell and taste i wouldve added more hot sauce but thats just me my pad see ew on the other hand was amazinggggggg one of my favorite dishes in sb for sure great subtle sweetness to the noodles and chicken and a wonderful balance of broccoli \\n\\npricing is alright great noodle plates oh and their handmade ice cream is amazing try the thai tea with cookies and cream plus the pure coconut ice cream\\n\\nthis is probably as close as you can get to super legit thai food that isnt in the oc i knocked one star off for the impatient service    1\n",
      "Name: count, Length: 34964, dtype: int64\n"
     ]
    }
   ],
   "source": [
    "print(reviews_pd['stars'])\n",
    "print(reviews_pd[\"text\"].value_counts())\n"
   ]
  },
  {
   "cell_type": "code",
   "execution_count": 21,
   "metadata": {},
   "outputs": [
    {
     "name": "stdout",
     "output_type": "stream",
     "text": [
      "stars\n",
      "3.0    18126\n",
      "1.0    18126\n",
      "4.0    18126\n",
      "5.0    18126\n",
      "2.0    18126\n",
      "Name: count, dtype: int64\n"
     ]
    }
   ],
   "source": [
    "from sklearn.utils import resample\n",
    "\n",
    "df_majority = reviews_pd[reviews_pd['stars'] == 5.0]  # Majority class (or pick the most common class)\n",
    "df_4 = reviews_pd[reviews_pd['stars'] == 4.0]\n",
    "df_3 = reviews_pd[reviews_pd['stars'] == 3.0]\n",
    "df_2 = reviews_pd[reviews_pd['stars'] == 2.0]\n",
    "df_1 = reviews_pd[reviews_pd['stars'] == 1.0]\n",
    "\n",
    "# Oversample the minority classes to match the number of samples in the majority class\n",
    "df_4_oversampled = resample(df_4, replace=True, n_samples=len(df_majority), random_state=42)\n",
    "df_3_oversampled = resample(df_3, replace=True, n_samples=len(df_majority), random_state=42)\n",
    "df_2_oversampled = resample(df_2, replace=True, n_samples=len(df_majority), random_state=42)\n",
    "df_1_oversampled = resample(df_1, replace=True, n_samples=len(df_majority), random_state=42)\n",
    "\n",
    "# Combine all into a balanced DataFrame\n",
    "reviews_pd = pd.concat([df_majority, df_4_oversampled, df_3_oversampled, df_2_oversampled, df_1_oversampled])\n",
    "\n",
    "# Shuffle the dataset to mix up the classes\n",
    "reviews_pd = reviews_pd.sample(frac=1, random_state=42)\n",
    "\n",
    "print(reviews_pd['stars'].value_counts())"
   ]
  },
  {
   "cell_type": "markdown",
   "metadata": {},
   "source": [
    "BASIC NAIVE BAYESIAN MODEL FOR SEMANTIC ANALYSIS"
   ]
  },
  {
   "cell_type": "code",
   "execution_count": 22,
   "metadata": {},
   "outputs": [],
   "source": [
    "from sklearn.model_selection import train_test_split\n",
    "from sklearn.feature_extraction.text import CountVectorizer\n",
    "from sklearn.naive_bayes import MultinomialNB\n",
    "from sklearn.metrics import accuracy_score\n"
   ]
  },
  {
   "cell_type": "code",
   "execution_count": 23,
   "metadata": {},
   "outputs": [],
   "source": [
    "X = reviews_pd[\"text\"]\n",
    "y = reviews_pd[\"stars\"].to_numpy()\n",
    "X_train, X_test, y_train, y_test = train_test_split(X, y, test_size=0.2, random_state=42)"
   ]
  },
  {
   "cell_type": "code",
   "execution_count": 24,
   "metadata": {},
   "outputs": [
    {
     "name": "stdout",
     "output_type": "stream",
     "text": [
      "  (0, 28660)\t0.10127126505190344\n",
      "  (0, 38671)\t0.031016308940549114\n",
      "  (0, 38653)\t0.052917178471378994\n",
      "  (0, 27405)\t0.04904461444449384\n",
      "  (0, 10018)\t0.11255030446284403\n",
      "  (0, 5201)\t0.08364145365521758\n",
      "  (0, 39086)\t0.04242408143863115\n",
      "  (0, 25330)\t0.05258729968401357\n",
      "  (0, 38844)\t0.057531079805260905\n",
      "  (0, 22805)\t0.0606113746283814\n",
      "  (0, 27167)\t0.08627587615279732\n",
      "  (0, 4873)\t0.04771840256135236\n",
      "  (0, 19712)\t0.03879423594402194\n",
      "  (0, 3563)\t0.03983015425188597\n",
      "  (0, 38208)\t0.06043994556710097\n",
      "  (0, 11720)\t0.05392432305802477\n",
      "  (0, 31499)\t0.12137452599756592\n",
      "  (0, 17554)\t0.038899916091966635\n",
      "  (0, 27909)\t0.13539839492187575\n",
      "  (0, 17218)\t0.033018316756122344\n",
      "  (0, 42231)\t0.06635285256371438\n",
      "  (0, 29722)\t0.07080334587136011\n",
      "  (0, 16384)\t0.06969787067600994\n",
      "  (0, 30929)\t0.06999621167257987\n",
      "  (0, 14882)\t0.08867111843027113\n",
      "  :\t:\n",
      "  (0, 28655)\t0.06997433484358781\n",
      "  (0, 41877)\t0.16755555154077437\n",
      "  (0, 42357)\t0.04584400486927773\n",
      "  (0, 39223)\t0.08036207770346208\n",
      "  (0, 22636)\t0.1293979527833883\n",
      "  (0, 8094)\t0.05648679385800747\n",
      "  (0, 38694)\t0.27600139488840203\n",
      "  (0, 42656)\t0.059556174643320345\n",
      "  (0, 26717)\t0.11358216642227087\n",
      "  (0, 36673)\t0.0796477745997251\n",
      "  (0, 19542)\t0.07939710792376577\n",
      "  (0, 41332)\t0.07717984557329859\n",
      "  (0, 3493)\t0.07292393549590005\n",
      "  (0, 4151)\t0.04203850591152866\n",
      "  (0, 4728)\t0.03581960269185946\n",
      "  (0, 11233)\t0.05531042422296113\n",
      "  (0, 42518)\t0.04755325408795186\n",
      "  (0, 2954)\t0.07591905140000012\n",
      "  (0, 25980)\t0.05870313630639985\n",
      "  (0, 21984)\t0.0634991311691599\n",
      "  (0, 38753)\t0.07669095176648737\n",
      "  (0, 5352)\t0.08740778013799602\n",
      "  (0, 14623)\t0.07162099876463635\n",
      "  (0, 7604)\t0.13159106603243897\n",
      "  (0, 42011)\t0.22804287851245592\n"
     ]
    }
   ],
   "source": [
    "from sklearn.feature_extraction.text import TfidfVectorizer\n",
    "\n",
    "vectorizer = TfidfVectorizer()\n",
    "X_train_vectorized = vectorizer.fit_transform(X_train)\n",
    "X_test_vectorized = vectorizer.transform(X_test)\n",
    "\n",
    "print(X_train_vectorized[0])"
   ]
  },
  {
   "cell_type": "code",
   "execution_count": 25,
   "metadata": {},
   "outputs": [
    {
     "data": {
      "text/html": [
       "<style>#sk-container-id-1 {color: black;}#sk-container-id-1 pre{padding: 0;}#sk-container-id-1 div.sk-toggleable {background-color: white;}#sk-container-id-1 label.sk-toggleable__label {cursor: pointer;display: block;width: 100%;margin-bottom: 0;padding: 0.3em;box-sizing: border-box;text-align: center;}#sk-container-id-1 label.sk-toggleable__label-arrow:before {content: \"▸\";float: left;margin-right: 0.25em;color: #696969;}#sk-container-id-1 label.sk-toggleable__label-arrow:hover:before {color: black;}#sk-container-id-1 div.sk-estimator:hover label.sk-toggleable__label-arrow:before {color: black;}#sk-container-id-1 div.sk-toggleable__content {max-height: 0;max-width: 0;overflow: hidden;text-align: left;background-color: #f0f8ff;}#sk-container-id-1 div.sk-toggleable__content pre {margin: 0.2em;color: black;border-radius: 0.25em;background-color: #f0f8ff;}#sk-container-id-1 input.sk-toggleable__control:checked~div.sk-toggleable__content {max-height: 200px;max-width: 100%;overflow: auto;}#sk-container-id-1 input.sk-toggleable__control:checked~label.sk-toggleable__label-arrow:before {content: \"▾\";}#sk-container-id-1 div.sk-estimator input.sk-toggleable__control:checked~label.sk-toggleable__label {background-color: #d4ebff;}#sk-container-id-1 div.sk-label input.sk-toggleable__control:checked~label.sk-toggleable__label {background-color: #d4ebff;}#sk-container-id-1 input.sk-hidden--visually {border: 0;clip: rect(1px 1px 1px 1px);clip: rect(1px, 1px, 1px, 1px);height: 1px;margin: -1px;overflow: hidden;padding: 0;position: absolute;width: 1px;}#sk-container-id-1 div.sk-estimator {font-family: monospace;background-color: #f0f8ff;border: 1px dotted black;border-radius: 0.25em;box-sizing: border-box;margin-bottom: 0.5em;}#sk-container-id-1 div.sk-estimator:hover {background-color: #d4ebff;}#sk-container-id-1 div.sk-parallel-item::after {content: \"\";width: 100%;border-bottom: 1px solid gray;flex-grow: 1;}#sk-container-id-1 div.sk-label:hover label.sk-toggleable__label {background-color: #d4ebff;}#sk-container-id-1 div.sk-serial::before {content: \"\";position: absolute;border-left: 1px solid gray;box-sizing: border-box;top: 0;bottom: 0;left: 50%;z-index: 0;}#sk-container-id-1 div.sk-serial {display: flex;flex-direction: column;align-items: center;background-color: white;padding-right: 0.2em;padding-left: 0.2em;position: relative;}#sk-container-id-1 div.sk-item {position: relative;z-index: 1;}#sk-container-id-1 div.sk-parallel {display: flex;align-items: stretch;justify-content: center;background-color: white;position: relative;}#sk-container-id-1 div.sk-item::before, #sk-container-id-1 div.sk-parallel-item::before {content: \"\";position: absolute;border-left: 1px solid gray;box-sizing: border-box;top: 0;bottom: 0;left: 50%;z-index: -1;}#sk-container-id-1 div.sk-parallel-item {display: flex;flex-direction: column;z-index: 1;position: relative;background-color: white;}#sk-container-id-1 div.sk-parallel-item:first-child::after {align-self: flex-end;width: 50%;}#sk-container-id-1 div.sk-parallel-item:last-child::after {align-self: flex-start;width: 50%;}#sk-container-id-1 div.sk-parallel-item:only-child::after {width: 0;}#sk-container-id-1 div.sk-dashed-wrapped {border: 1px dashed gray;margin: 0 0.4em 0.5em 0.4em;box-sizing: border-box;padding-bottom: 0.4em;background-color: white;}#sk-container-id-1 div.sk-label label {font-family: monospace;font-weight: bold;display: inline-block;line-height: 1.2em;}#sk-container-id-1 div.sk-label-container {text-align: center;}#sk-container-id-1 div.sk-container {/* jupyter's `normalize.less` sets `[hidden] { display: none; }` but bootstrap.min.css set `[hidden] { display: none !important; }` so we also need the `!important` here to be able to override the default hidden behavior on the sphinx rendered scikit-learn.org. See: https://github.com/scikit-learn/scikit-learn/issues/21755 */display: inline-block !important;position: relative;}#sk-container-id-1 div.sk-text-repr-fallback {display: none;}</style><div id=\"sk-container-id-1\" class=\"sk-top-container\"><div class=\"sk-text-repr-fallback\"><pre>MultinomialNB()</pre><b>In a Jupyter environment, please rerun this cell to show the HTML representation or trust the notebook. <br />On GitHub, the HTML representation is unable to render, please try loading this page with nbviewer.org.</b></div><div class=\"sk-container\" hidden><div class=\"sk-item\"><div class=\"sk-estimator sk-toggleable\"><input class=\"sk-toggleable__control sk-hidden--visually\" id=\"sk-estimator-id-1\" type=\"checkbox\" checked><label for=\"sk-estimator-id-1\" class=\"sk-toggleable__label sk-toggleable__label-arrow\">MultinomialNB</label><div class=\"sk-toggleable__content\"><pre>MultinomialNB()</pre></div></div></div></div></div>"
      ],
      "text/plain": [
       "MultinomialNB()"
      ]
     },
     "execution_count": 25,
     "metadata": {},
     "output_type": "execute_result"
    }
   ],
   "source": [
    "model = MultinomialNB()\n",
    "model.fit(X_train_vectorized, y_train)"
   ]
  },
  {
   "cell_type": "code",
   "execution_count": 26,
   "metadata": {},
   "outputs": [
    {
     "name": "stdout",
     "output_type": "stream",
     "text": [
      "Accuracy: 0.7415866710802163\n"
     ]
    }
   ],
   "source": [
    "y_pred = model.predict(X_test_vectorized)\n",
    "print(f\"Accuracy: {accuracy_score(y_test, y_pred)}\")"
   ]
  },
  {
   "cell_type": "markdown",
   "metadata": {},
   "source": [
    "CREATING LOGISTIC REGRESSION MODEL FOR SEMANTIC ANALYSIS"
   ]
  },
  {
   "cell_type": "code",
   "execution_count": 27,
   "metadata": {},
   "outputs": [
    {
     "data": {
      "text/html": [
       "<style>#sk-container-id-2 {color: black;}#sk-container-id-2 pre{padding: 0;}#sk-container-id-2 div.sk-toggleable {background-color: white;}#sk-container-id-2 label.sk-toggleable__label {cursor: pointer;display: block;width: 100%;margin-bottom: 0;padding: 0.3em;box-sizing: border-box;text-align: center;}#sk-container-id-2 label.sk-toggleable__label-arrow:before {content: \"▸\";float: left;margin-right: 0.25em;color: #696969;}#sk-container-id-2 label.sk-toggleable__label-arrow:hover:before {color: black;}#sk-container-id-2 div.sk-estimator:hover label.sk-toggleable__label-arrow:before {color: black;}#sk-container-id-2 div.sk-toggleable__content {max-height: 0;max-width: 0;overflow: hidden;text-align: left;background-color: #f0f8ff;}#sk-container-id-2 div.sk-toggleable__content pre {margin: 0.2em;color: black;border-radius: 0.25em;background-color: #f0f8ff;}#sk-container-id-2 input.sk-toggleable__control:checked~div.sk-toggleable__content {max-height: 200px;max-width: 100%;overflow: auto;}#sk-container-id-2 input.sk-toggleable__control:checked~label.sk-toggleable__label-arrow:before {content: \"▾\";}#sk-container-id-2 div.sk-estimator input.sk-toggleable__control:checked~label.sk-toggleable__label {background-color: #d4ebff;}#sk-container-id-2 div.sk-label input.sk-toggleable__control:checked~label.sk-toggleable__label {background-color: #d4ebff;}#sk-container-id-2 input.sk-hidden--visually {border: 0;clip: rect(1px 1px 1px 1px);clip: rect(1px, 1px, 1px, 1px);height: 1px;margin: -1px;overflow: hidden;padding: 0;position: absolute;width: 1px;}#sk-container-id-2 div.sk-estimator {font-family: monospace;background-color: #f0f8ff;border: 1px dotted black;border-radius: 0.25em;box-sizing: border-box;margin-bottom: 0.5em;}#sk-container-id-2 div.sk-estimator:hover {background-color: #d4ebff;}#sk-container-id-2 div.sk-parallel-item::after {content: \"\";width: 100%;border-bottom: 1px solid gray;flex-grow: 1;}#sk-container-id-2 div.sk-label:hover label.sk-toggleable__label {background-color: #d4ebff;}#sk-container-id-2 div.sk-serial::before {content: \"\";position: absolute;border-left: 1px solid gray;box-sizing: border-box;top: 0;bottom: 0;left: 50%;z-index: 0;}#sk-container-id-2 div.sk-serial {display: flex;flex-direction: column;align-items: center;background-color: white;padding-right: 0.2em;padding-left: 0.2em;position: relative;}#sk-container-id-2 div.sk-item {position: relative;z-index: 1;}#sk-container-id-2 div.sk-parallel {display: flex;align-items: stretch;justify-content: center;background-color: white;position: relative;}#sk-container-id-2 div.sk-item::before, #sk-container-id-2 div.sk-parallel-item::before {content: \"\";position: absolute;border-left: 1px solid gray;box-sizing: border-box;top: 0;bottom: 0;left: 50%;z-index: -1;}#sk-container-id-2 div.sk-parallel-item {display: flex;flex-direction: column;z-index: 1;position: relative;background-color: white;}#sk-container-id-2 div.sk-parallel-item:first-child::after {align-self: flex-end;width: 50%;}#sk-container-id-2 div.sk-parallel-item:last-child::after {align-self: flex-start;width: 50%;}#sk-container-id-2 div.sk-parallel-item:only-child::after {width: 0;}#sk-container-id-2 div.sk-dashed-wrapped {border: 1px dashed gray;margin: 0 0.4em 0.5em 0.4em;box-sizing: border-box;padding-bottom: 0.4em;background-color: white;}#sk-container-id-2 div.sk-label label {font-family: monospace;font-weight: bold;display: inline-block;line-height: 1.2em;}#sk-container-id-2 div.sk-label-container {text-align: center;}#sk-container-id-2 div.sk-container {/* jupyter's `normalize.less` sets `[hidden] { display: none; }` but bootstrap.min.css set `[hidden] { display: none !important; }` so we also need the `!important` here to be able to override the default hidden behavior on the sphinx rendered scikit-learn.org. See: https://github.com/scikit-learn/scikit-learn/issues/21755 */display: inline-block !important;position: relative;}#sk-container-id-2 div.sk-text-repr-fallback {display: none;}</style><div id=\"sk-container-id-2\" class=\"sk-top-container\"><div class=\"sk-text-repr-fallback\"><pre>LogisticRegression(max_iter=1000, multi_class=&#x27;multinomial&#x27;)</pre><b>In a Jupyter environment, please rerun this cell to show the HTML representation or trust the notebook. <br />On GitHub, the HTML representation is unable to render, please try loading this page with nbviewer.org.</b></div><div class=\"sk-container\" hidden><div class=\"sk-item\"><div class=\"sk-estimator sk-toggleable\"><input class=\"sk-toggleable__control sk-hidden--visually\" id=\"sk-estimator-id-2\" type=\"checkbox\" checked><label for=\"sk-estimator-id-2\" class=\"sk-toggleable__label sk-toggleable__label-arrow\">LogisticRegression</label><div class=\"sk-toggleable__content\"><pre>LogisticRegression(max_iter=1000, multi_class=&#x27;multinomial&#x27;)</pre></div></div></div></div></div>"
      ],
      "text/plain": [
       "LogisticRegression(max_iter=1000, multi_class='multinomial')"
      ]
     },
     "execution_count": 27,
     "metadata": {},
     "output_type": "execute_result"
    }
   ],
   "source": [
    "from sklearn.linear_model import LogisticRegression\n",
    "\n",
    "model = LogisticRegression(max_iter=1000, multi_class='multinomial', solver='lbfgs')\n",
    "model.fit(X_train_vectorized, y_train)"
   ]
  },
  {
   "cell_type": "code",
   "execution_count": 28,
   "metadata": {},
   "outputs": [
    {
     "name": "stdout",
     "output_type": "stream",
     "text": [
      "Mean Absolute Error: 0.22536687631027252\n",
      "Mean Squared Error: 0.3523667659715326\n",
      "R-squared: 0.8237189765027606\n"
     ]
    }
   ],
   "source": [
    "from sklearn.metrics import mean_squared_error, mean_absolute_error, r2_score\n",
    "y_pred = model.predict(X_test_vectorized)\n",
    "\n",
    "mae = mean_absolute_error(y_test, y_pred)\n",
    "print(f'Mean Absolute Error: {mae}')\n",
    "\n",
    "mse = mean_squared_error(y_test, y_pred)\n",
    "print(f'Mean Squared Error: {mse}')\n",
    "\n",
    "r2 = r2_score(y_test, y_pred)\n",
    "print(f'R-squared: {r2}')"
   ]
  },
  {
   "cell_type": "markdown",
   "metadata": {},
   "source": [
    "RANDOM FOREST CLASSIFIER"
   ]
  },
  {
   "cell_type": "code",
   "execution_count": 29,
   "metadata": {},
   "outputs": [],
   "source": [
    "from sklearn.ensemble import RandomForestRegressor, RandomForestClassifier\n",
    "# from sklearn.model_selection import GridSearchCV\n",
    "\n",
    "# param_grid = {\n",
    "#     'n_estimators': [30, 40, 50],\n",
    "#     'max_depth': [10, 20],\n",
    "#     'min_samples_split': [10, 15, 20],\n",
    "# }\n",
    "\n",
    "# grid_search = GridSearchCV(RandomForestRegressor(n_jobs=-1, random_state=42), param_grid, cv=5, verbose=2)\n",
    "# grid_search.fit(X_train_vectorized, y_train)\n",
    "\n",
    "# print(grid_search.best_params_)"
   ]
  },
  {
   "cell_type": "code",
   "execution_count": 30,
   "metadata": {},
   "outputs": [],
   "source": [
    "# {'max_depth': 20, 'min_samples_split': 20, 'n_estimators': 50}\n",
    "\n",
    "# y_pred = grid_search.predict(X_test_vectorized)\n",
    "\n",
    "# mae = mean_absolute_error(y_test, y_pred)\n",
    "# print(f'Mean Absolute Error: {mae}')\n",
    "\n",
    "# mse = mean_squared_error(y_test, y_pred)\n",
    "# print(f'Mean Squared Error: {mse}')\n",
    "\n",
    "# r2 = r2_score(y_test, y_pred)\n",
    "# print(f'R-squared: {r2}')"
   ]
  },
  {
   "cell_type": "code",
   "execution_count": 31,
   "metadata": {},
   "outputs": [
    {
     "name": "stdout",
     "output_type": "stream",
     "text": [
      "building tree 1 of 250\n",
      "building tree 2 of 250\n",
      "building tree 3 of 250\n",
      "building tree 4 of 250\n",
      "building tree 5 of 250\n",
      "building tree 6 of 250\n",
      "building tree 7 of 250\n",
      "building tree 8 of 250\n"
     ]
    },
    {
     "name": "stderr",
     "output_type": "stream",
     "text": [
      "[Parallel(n_jobs=-1)]: Using backend ThreadingBackend with 8 concurrent workers.\n"
     ]
    },
    {
     "name": "stdout",
     "output_type": "stream",
     "text": [
      "building tree 9 of 250\n",
      "building tree 10 of 250\n",
      "building tree 11 of 250\n",
      "building tree 12 of 250\n",
      "building tree 13 of 250\n",
      "building tree 14 of 250\n",
      "building tree 15 of 250\n",
      "building tree 16 of 250\n",
      "building tree 17 of 250\n",
      "building tree 18 of 250\n",
      "building tree 19 of 250\n",
      "building tree 20 of 250\n",
      "building tree 21 of 250\n",
      "building tree 22 of 250\n",
      "building tree 23 of 250\n",
      "building tree 24 of 250\n",
      "building tree 25 of 250\n",
      "building tree 26 of 250\n",
      "building tree 27 of 250building tree 28 of 250\n",
      "\n",
      "building tree 29 of 250\n",
      "building tree 30 of 250\n",
      "building tree 31 of 250\n",
      "building tree 32 of 250\n",
      "building tree 33 of 250\n"
     ]
    },
    {
     "name": "stderr",
     "output_type": "stream",
     "text": [
      "[Parallel(n_jobs=-1)]: Done  25 tasks      | elapsed:  1.2min\n"
     ]
    },
    {
     "name": "stdout",
     "output_type": "stream",
     "text": [
      "building tree 34 of 250\n",
      "building tree 35 of 250\n",
      "building tree 36 of 250\n",
      "building tree 37 of 250\n",
      "building tree 38 of 250\n",
      "building tree 39 of 250\n",
      "building tree 40 of 250\n",
      "building tree 41 of 250\n",
      "building tree 42 of 250\n",
      "building tree 43 of 250\n",
      "building tree 44 of 250\n",
      "building tree 45 of 250\n",
      "building tree 46 of 250\n",
      "building tree 47 of 250\n",
      "building tree 48 of 250\n",
      "building tree 49 of 250\n",
      "building tree 50 of 250\n",
      "building tree 51 of 250\n",
      "building tree 52 of 250\n",
      "building tree 53 of 250\n",
      "building tree 54 of 250\n",
      "building tree 55 of 250\n",
      "building tree 56 of 250\n",
      "building tree 57 of 250\n",
      "building tree 58 of 250\n",
      "building tree 59 of 250\n",
      "building tree 60 of 250\n",
      "building tree 61 of 250\n",
      "building tree 62 of 250\n",
      "building tree 63 of 250\n",
      "building tree 64 of 250\n",
      "building tree 65 of 250\n",
      "building tree 66 of 250\n",
      "building tree 67 of 250\n",
      "building tree 68 of 250\n",
      "building tree 69 of 250\n",
      "building tree 70 of 250\n",
      "building tree 71 of 250\n",
      "building tree 72 of 250\n",
      "building tree 73 of 250\n",
      "building tree 74 of 250\n",
      "building tree 75 of 250\n",
      "building tree 76 of 250\n",
      "building tree 77 of 250\n",
      "building tree 78 of 250\n",
      "building tree 79 of 250\n",
      "building tree 80 of 250\n",
      "building tree 81 of 250\n",
      "building tree 82 of 250\n",
      "building tree 83 of 250\n",
      "building tree 84 of 250\n",
      "building tree 85 of 250\n",
      "building tree 86 of 250\n",
      "building tree 87 of 250\n",
      "building tree 88 of 250\n",
      "building tree 89 of 250\n",
      "building tree 90 of 250\n",
      "building tree 91 of 250\n",
      "building tree 92 of 250\n",
      "building tree 93 of 250\n",
      "building tree 94 of 250\n",
      "building tree 95 of 250\n",
      "building tree 96 of 250\n",
      "building tree 97 of 250\n",
      "building tree 98 of 250\n",
      "building tree 99 of 250\n",
      "building tree 100 of 250\n",
      "building tree 101 of 250\n",
      "building tree 102 of 250\n",
      "building tree 103 of 250\n",
      "building tree 104 of 250\n",
      "building tree 105 of 250\n",
      "building tree 106 of 250\n",
      "building tree 107 of 250\n",
      "building tree 108 of 250\n",
      "building tree 109 of 250\n",
      "building tree 110 of 250\n",
      "building tree 111 of 250\n",
      "building tree 112 of 250\n",
      "building tree 113 of 250\n",
      "building tree 114 of 250\n",
      "building tree 115 of 250\n",
      "building tree 116 of 250\n",
      "building tree 117 of 250\n",
      "building tree 118 of 250\n",
      "building tree 119 of 250\n",
      "building tree 120 of 250\n",
      "building tree 121 of 250\n",
      "building tree 122 of 250\n",
      "building tree 123 of 250\n",
      "building tree 124 of 250\n",
      "building tree 125 of 250\n",
      "building tree 126 of 250\n",
      "building tree 127 of 250\n",
      "building tree 128 of 250\n",
      "building tree 129 of 250\n",
      "building tree 130 of 250\n",
      "building tree 131 of 250\n",
      "building tree 132 of 250\n",
      "building tree 133 of 250\n",
      "building tree 134 of 250\n",
      "building tree 135 of 250\n",
      "building tree 136 of 250\n",
      "building tree 137 of 250\n",
      "building tree 138 of 250\n",
      "building tree 139 of 250\n",
      "building tree 140 of 250\n",
      "building tree 141 of 250\n",
      "building tree 142 of 250\n",
      "building tree 143 of 250\n",
      "building tree 144 of 250\n",
      "building tree 145 of 250\n",
      "building tree 146 of 250\n",
      "building tree 147 of 250\n",
      "building tree 148 of 250\n",
      "building tree 149 of 250\n",
      "building tree 150 of 250\n",
      "building tree 151 of 250\n",
      "building tree 152 of 250\n",
      "building tree 153 of 250\n",
      "building tree 154 of 250\n",
      "building tree 155 of 250\n"
     ]
    },
    {
     "name": "stderr",
     "output_type": "stream",
     "text": [
      "[Parallel(n_jobs=-1)]: Done 146 tasks      | elapsed:  6.2min\n"
     ]
    },
    {
     "name": "stdout",
     "output_type": "stream",
     "text": [
      "building tree 156 of 250\n",
      "building tree 157 of 250\n",
      "building tree 158 of 250\n",
      "building tree 159 of 250\n",
      "building tree 160 of 250\n",
      "building tree 161 of 250\n",
      "building tree 162 of 250\n",
      "building tree 163 of 250\n",
      "building tree 164 of 250\n",
      "building tree 165 of 250\n",
      "building tree 166 of 250\n",
      "building tree 167 of 250\n",
      "building tree 168 of 250\n",
      "building tree 169 of 250\n",
      "building tree 170 of 250\n",
      "building tree 171 of 250\n",
      "building tree 172 of 250\n",
      "building tree 173 of 250\n",
      "building tree 174 of 250\n",
      "building tree 175 of 250\n",
      "building tree 176 of 250\n",
      "building tree 177 of 250\n",
      "building tree 178 of 250\n",
      "building tree 179 of 250\n",
      "building tree 180 of 250\n",
      "building tree 181 of 250\n",
      "building tree 182 of 250\n",
      "building tree 183 of 250\n",
      "building tree 184 of 250\n",
      "building tree 185 of 250\n",
      "building tree 186 of 250\n",
      "building tree 187 of 250\n",
      "building tree 188 of 250\n",
      "building tree 189 of 250\n",
      "building tree 190 of 250\n",
      "building tree 191 of 250\n",
      "building tree 192 of 250\n",
      "building tree 193 of 250\n",
      "building tree 194 of 250\n",
      "building tree 195 of 250\n",
      "building tree 196 of 250\n",
      "building tree 197 of 250\n",
      "building tree 198 of 250\n",
      "building tree 199 of 250\n",
      "building tree 200 of 250\n",
      "building tree 201 of 250\n",
      "building tree 202 of 250\n",
      "building tree 203 of 250\n",
      "building tree 204 of 250\n",
      "building tree 205 of 250\n",
      "building tree 206 of 250\n",
      "building tree 207 of 250\n",
      "building tree 208 of 250\n",
      "building tree 209 of 250\n",
      "building tree 210 of 250\n",
      "building tree 211 of 250\n",
      "building tree 212 of 250\n",
      "building tree 213 of 250\n",
      "building tree 214 of 250\n",
      "building tree 215 of 250\n",
      "building tree 216 of 250\n",
      "building tree 217 of 250\n",
      "building tree 218 of 250\n",
      "building tree 219 of 250\n",
      "building tree 220 of 250\n",
      "building tree 221 of 250\n",
      "building tree 222 of 250\n",
      "building tree 223 of 250\n",
      "building tree 224 of 250\n",
      "building tree 225 of 250\n",
      "building tree 226 of 250\n",
      "building tree 227 of 250\n",
      "building tree 228 of 250\n",
      "building tree 229 of 250\n",
      "building tree 230 of 250\n",
      "building tree 231 of 250\n",
      "building tree 232 of 250\n",
      "building tree 233 of 250\n",
      "building tree 234 of 250\n",
      "building tree 235 of 250\n",
      "building tree 236 of 250\n",
      "building tree 237 of 250\n",
      "building tree 238 of 250\n",
      "building tree 239 of 250\n",
      "building tree 240 of 250\n",
      "building tree 241 of 250\n",
      "building tree 242 of 250\n",
      "building tree 243 of 250\n",
      "building tree 244 of 250\n",
      "building tree 245 of 250\n",
      "building tree 246 of 250\n",
      "building tree 247 of 250\n",
      "building tree 248 of 250\n",
      "building tree 249 of 250\n",
      "building tree 250 of 250\n"
     ]
    },
    {
     "name": "stderr",
     "output_type": "stream",
     "text": [
      "[Parallel(n_jobs=-1)]: Done 250 out of 250 | elapsed: 10.2min finished\n"
     ]
    },
    {
     "data": {
      "text/html": [
       "<style>#sk-container-id-3 {color: black;}#sk-container-id-3 pre{padding: 0;}#sk-container-id-3 div.sk-toggleable {background-color: white;}#sk-container-id-3 label.sk-toggleable__label {cursor: pointer;display: block;width: 100%;margin-bottom: 0;padding: 0.3em;box-sizing: border-box;text-align: center;}#sk-container-id-3 label.sk-toggleable__label-arrow:before {content: \"▸\";float: left;margin-right: 0.25em;color: #696969;}#sk-container-id-3 label.sk-toggleable__label-arrow:hover:before {color: black;}#sk-container-id-3 div.sk-estimator:hover label.sk-toggleable__label-arrow:before {color: black;}#sk-container-id-3 div.sk-toggleable__content {max-height: 0;max-width: 0;overflow: hidden;text-align: left;background-color: #f0f8ff;}#sk-container-id-3 div.sk-toggleable__content pre {margin: 0.2em;color: black;border-radius: 0.25em;background-color: #f0f8ff;}#sk-container-id-3 input.sk-toggleable__control:checked~div.sk-toggleable__content {max-height: 200px;max-width: 100%;overflow: auto;}#sk-container-id-3 input.sk-toggleable__control:checked~label.sk-toggleable__label-arrow:before {content: \"▾\";}#sk-container-id-3 div.sk-estimator input.sk-toggleable__control:checked~label.sk-toggleable__label {background-color: #d4ebff;}#sk-container-id-3 div.sk-label input.sk-toggleable__control:checked~label.sk-toggleable__label {background-color: #d4ebff;}#sk-container-id-3 input.sk-hidden--visually {border: 0;clip: rect(1px 1px 1px 1px);clip: rect(1px, 1px, 1px, 1px);height: 1px;margin: -1px;overflow: hidden;padding: 0;position: absolute;width: 1px;}#sk-container-id-3 div.sk-estimator {font-family: monospace;background-color: #f0f8ff;border: 1px dotted black;border-radius: 0.25em;box-sizing: border-box;margin-bottom: 0.5em;}#sk-container-id-3 div.sk-estimator:hover {background-color: #d4ebff;}#sk-container-id-3 div.sk-parallel-item::after {content: \"\";width: 100%;border-bottom: 1px solid gray;flex-grow: 1;}#sk-container-id-3 div.sk-label:hover label.sk-toggleable__label {background-color: #d4ebff;}#sk-container-id-3 div.sk-serial::before {content: \"\";position: absolute;border-left: 1px solid gray;box-sizing: border-box;top: 0;bottom: 0;left: 50%;z-index: 0;}#sk-container-id-3 div.sk-serial {display: flex;flex-direction: column;align-items: center;background-color: white;padding-right: 0.2em;padding-left: 0.2em;position: relative;}#sk-container-id-3 div.sk-item {position: relative;z-index: 1;}#sk-container-id-3 div.sk-parallel {display: flex;align-items: stretch;justify-content: center;background-color: white;position: relative;}#sk-container-id-3 div.sk-item::before, #sk-container-id-3 div.sk-parallel-item::before {content: \"\";position: absolute;border-left: 1px solid gray;box-sizing: border-box;top: 0;bottom: 0;left: 50%;z-index: -1;}#sk-container-id-3 div.sk-parallel-item {display: flex;flex-direction: column;z-index: 1;position: relative;background-color: white;}#sk-container-id-3 div.sk-parallel-item:first-child::after {align-self: flex-end;width: 50%;}#sk-container-id-3 div.sk-parallel-item:last-child::after {align-self: flex-start;width: 50%;}#sk-container-id-3 div.sk-parallel-item:only-child::after {width: 0;}#sk-container-id-3 div.sk-dashed-wrapped {border: 1px dashed gray;margin: 0 0.4em 0.5em 0.4em;box-sizing: border-box;padding-bottom: 0.4em;background-color: white;}#sk-container-id-3 div.sk-label label {font-family: monospace;font-weight: bold;display: inline-block;line-height: 1.2em;}#sk-container-id-3 div.sk-label-container {text-align: center;}#sk-container-id-3 div.sk-container {/* jupyter's `normalize.less` sets `[hidden] { display: none; }` but bootstrap.min.css set `[hidden] { display: none !important; }` so we also need the `!important` here to be able to override the default hidden behavior on the sphinx rendered scikit-learn.org. See: https://github.com/scikit-learn/scikit-learn/issues/21755 */display: inline-block !important;position: relative;}#sk-container-id-3 div.sk-text-repr-fallback {display: none;}</style><div id=\"sk-container-id-3\" class=\"sk-top-container\"><div class=\"sk-text-repr-fallback\"><pre>RandomForestRegressor(max_depth=20, min_samples_split=20, n_estimators=250,\n",
       "                      n_jobs=-1, verbose=2)</pre><b>In a Jupyter environment, please rerun this cell to show the HTML representation or trust the notebook. <br />On GitHub, the HTML representation is unable to render, please try loading this page with nbviewer.org.</b></div><div class=\"sk-container\" hidden><div class=\"sk-item\"><div class=\"sk-estimator sk-toggleable\"><input class=\"sk-toggleable__control sk-hidden--visually\" id=\"sk-estimator-id-3\" type=\"checkbox\" checked><label for=\"sk-estimator-id-3\" class=\"sk-toggleable__label sk-toggleable__label-arrow\">RandomForestRegressor</label><div class=\"sk-toggleable__content\"><pre>RandomForestRegressor(max_depth=20, min_samples_split=20, n_estimators=250,\n",
       "                      n_jobs=-1, verbose=2)</pre></div></div></div></div></div>"
      ],
      "text/plain": [
       "RandomForestRegressor(max_depth=20, min_samples_split=20, n_estimators=250,\n",
       "                      n_jobs=-1, verbose=2)"
      ]
     },
     "execution_count": 31,
     "metadata": {},
     "output_type": "execute_result"
    }
   ],
   "source": [
    "optimizing_random_forest_model = RandomForestRegressor(max_depth=20, n_estimators=250, min_samples_split=20, verbose=2, n_jobs=-1)\n",
    "optimizing_random_forest_model.fit(X_train_vectorized, y_train)"
   ]
  },
  {
   "cell_type": "code",
   "execution_count": 32,
   "metadata": {},
   "outputs": [
    {
     "name": "stderr",
     "output_type": "stream",
     "text": [
      "[Parallel(n_jobs=8)]: Using backend ThreadingBackend with 8 concurrent workers.\n",
      "[Parallel(n_jobs=8)]: Done  25 tasks      | elapsed:    0.0s\n",
      "[Parallel(n_jobs=8)]: Done 146 tasks      | elapsed:    0.1s\n"
     ]
    },
    {
     "name": "stdout",
     "output_type": "stream",
     "text": [
      "Mean Absolute Error: 0.5435045263899286\n",
      "Mean Squared Error: 0.5498283619110738\n",
      "R-squared: 0.7249334621037301\n"
     ]
    },
    {
     "name": "stderr",
     "output_type": "stream",
     "text": [
      "[Parallel(n_jobs=8)]: Done 250 out of 250 | elapsed:    0.2s finished\n"
     ]
    }
   ],
   "source": [
    "y_pred = optimizing_random_forest_model.predict(X_test_vectorized)\n",
    "\n",
    "mae = mean_absolute_error(y_test, y_pred)\n",
    "print(f'Mean Absolute Error: {mae}')\n",
    "\n",
    "mse = mean_squared_error(y_test, y_pred)\n",
    "print(f'Mean Squared Error: {mse}')\n",
    "\n",
    "r2 = r2_score(y_test, y_pred)\n",
    "print(f'R-squared: {r2}')"
   ]
  },
  {
   "cell_type": "code",
   "execution_count": null,
   "metadata": {},
   "outputs": [],
   "source": []
  }
 ],
 "metadata": {
  "kernelspec": {
   "display_name": "condaENV",
   "language": "python",
   "name": "python3"
  },
  "language_info": {
   "codemirror_mode": {
    "name": "ipython",
    "version": 3
   },
   "file_extension": ".py",
   "mimetype": "text/x-python",
   "name": "python",
   "nbconvert_exporter": "python",
   "pygments_lexer": "ipython3",
   "version": "3.11.8"
  }
 },
 "nbformat": 4,
 "nbformat_minor": 2
}
